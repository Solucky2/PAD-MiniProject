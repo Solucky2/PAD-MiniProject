{
 "cells": [
  {
   "cell_type": "code",
   "id": "initial_id",
   "metadata": {
    "collapsed": true,
    "ExecuteTime": {
     "end_time": "2024-11-24T16:17:51.129302Z",
     "start_time": "2024-11-24T16:17:51.056527Z"
    }
   },
   "source": [
    "from scrapy.crawler import CrawlerProcess\n",
    "from src.spiders.KonessoSpider import KonessoSpider\n",
    "\n",
    "process = CrawlerProcess(settings={\n",
    "    \"FEEDS\": {\n",
    "        \"scrapped_pages/output_konesso.csv\": {\"format\": \"csv\"},\n",
    "    },\n",
    "})\n",
    "process.crawl(KonessoSpider)\n",
    "process.start()\n"
   ],
   "outputs": [
    {
     "name": "stderr",
     "output_type": "stream",
     "text": [
      "2024-11-24 17:17:51 [scrapy.utils.log] INFO: Scrapy 2.11.2 started (bot: scrapybot)\n",
      "2024-11-24 17:17:51 [scrapy.utils.log] INFO: Versions: lxml 5.3.0.0, libxml2 2.11.7, cssselect 1.2.0, parsel 1.9.1, w3lib 2.2.1, Twisted 24.10.0, Python 3.10.11 (tags/v3.10.11:7d4cc5a, Apr  5 2023, 00:38:17) [MSC v.1929 64 bit (AMD64)], pyOpenSSL 24.2.1 (OpenSSL 3.3.2 3 Sep 2024), cryptography 43.0.3, Platform Windows-10-10.0.22631-SP0\n",
      "2024-11-24 17:17:51 [scrapy.addons] INFO: Enabled addons:\n",
      "[]\n",
      "2024-11-24 17:17:51 [scrapy.utils.log] DEBUG: Using reactor: twisted.internet.selectreactor.SelectReactor\n",
      "2024-11-24 17:17:51 [scrapy.extensions.telnet] INFO: Telnet Password: cbd76ca7e6cfbb56\n",
      "2024-11-24 17:17:51 [scrapy.middleware] INFO: Enabled extensions:\n",
      "['scrapy.extensions.corestats.CoreStats',\n",
      " 'scrapy.extensions.telnet.TelnetConsole',\n",
      " 'scrapy.extensions.feedexport.FeedExporter',\n",
      " 'scrapy.extensions.logstats.LogStats']\n",
      "2024-11-24 17:17:51 [scrapy.crawler] INFO: Overridden settings:\n",
      "{}\n",
      "2024-11-24 17:17:51 [scrapy.middleware] INFO: Enabled downloader middlewares:\n",
      "['scrapy.downloadermiddlewares.offsite.OffsiteMiddleware',\n",
      " 'scrapy.downloadermiddlewares.httpauth.HttpAuthMiddleware',\n",
      " 'scrapy.downloadermiddlewares.downloadtimeout.DownloadTimeoutMiddleware',\n",
      " 'scrapy.downloadermiddlewares.defaultheaders.DefaultHeadersMiddleware',\n",
      " 'scrapy.downloadermiddlewares.useragent.UserAgentMiddleware',\n",
      " 'scrapy.downloadermiddlewares.retry.RetryMiddleware',\n",
      " 'scrapy.downloadermiddlewares.redirect.MetaRefreshMiddleware',\n",
      " 'scrapy.downloadermiddlewares.httpcompression.HttpCompressionMiddleware',\n",
      " 'scrapy.downloadermiddlewares.redirect.RedirectMiddleware',\n",
      " 'scrapy.downloadermiddlewares.cookies.CookiesMiddleware',\n",
      " 'scrapy.downloadermiddlewares.httpproxy.HttpProxyMiddleware',\n",
      " 'scrapy.downloadermiddlewares.stats.DownloaderStats']\n",
      "2024-11-24 17:17:51 [scrapy.middleware] INFO: Enabled spider middlewares:\n",
      "['scrapy.spidermiddlewares.httperror.HttpErrorMiddleware',\n",
      " 'scrapy.spidermiddlewares.referer.RefererMiddleware',\n",
      " 'scrapy.spidermiddlewares.urllength.UrlLengthMiddleware',\n",
      " 'scrapy.spidermiddlewares.depth.DepthMiddleware']\n",
      "2024-11-24 17:17:51 [scrapy.middleware] INFO: Enabled item pipelines:\n",
      "[]\n",
      "2024-11-24 17:17:51 [scrapy.core.engine] INFO: Spider opened\n",
      "2024-11-24 17:17:51 [scrapy.extensions.logstats] INFO: Crawled 0 pages (at 0 pages/min), scraped 0 items (at 0 items/min)\n",
      "2024-11-24 17:17:51 [scrapy.extensions.telnet] INFO: Telnet console listening on 127.0.0.1:6024\n"
     ]
    },
    {
     "ename": "ReactorNotRestartable",
     "evalue": "",
     "output_type": "error",
     "traceback": [
      "\u001B[1;31m---------------------------------------------------------------------------\u001B[0m",
      "\u001B[1;31mReactorNotRestartable\u001B[0m                     Traceback (most recent call last)",
      "Cell \u001B[1;32mIn[3], line 10\u001B[0m\n\u001B[0;32m      4\u001B[0m process \u001B[38;5;241m=\u001B[39m CrawlerProcess(settings\u001B[38;5;241m=\u001B[39m{\n\u001B[0;32m      5\u001B[0m     \u001B[38;5;124m\"\u001B[39m\u001B[38;5;124mFEEDS\u001B[39m\u001B[38;5;124m\"\u001B[39m: {\n\u001B[0;32m      6\u001B[0m         \u001B[38;5;124m\"\u001B[39m\u001B[38;5;124mscrapped_pages/output_konesso.csv\u001B[39m\u001B[38;5;124m\"\u001B[39m: {\u001B[38;5;124m\"\u001B[39m\u001B[38;5;124mformat\u001B[39m\u001B[38;5;124m\"\u001B[39m: \u001B[38;5;124m\"\u001B[39m\u001B[38;5;124mcsv\u001B[39m\u001B[38;5;124m\"\u001B[39m},\n\u001B[0;32m      7\u001B[0m     },\n\u001B[0;32m      8\u001B[0m })\n\u001B[0;32m      9\u001B[0m process\u001B[38;5;241m.\u001B[39mcrawl(KonessoSpider)\n\u001B[1;32m---> 10\u001B[0m \u001B[43mprocess\u001B[49m\u001B[38;5;241;43m.\u001B[39;49m\u001B[43mstart\u001B[49m\u001B[43m(\u001B[49m\u001B[43m)\u001B[49m\n",
      "File \u001B[1;32m~\\PycharmProjects\\PAD_Project\\.venv\\lib\\site-packages\\scrapy\\crawler.py:429\u001B[0m, in \u001B[0;36mCrawlerProcess.start\u001B[1;34m(self, stop_after_crawl, install_signal_handlers)\u001B[0m\n\u001B[0;32m    425\u001B[0m \u001B[38;5;28;01mif\u001B[39;00m install_signal_handlers:\n\u001B[0;32m    426\u001B[0m     reactor\u001B[38;5;241m.\u001B[39maddSystemEventTrigger(\n\u001B[0;32m    427\u001B[0m         \u001B[38;5;124m\"\u001B[39m\u001B[38;5;124mafter\u001B[39m\u001B[38;5;124m\"\u001B[39m, \u001B[38;5;124m\"\u001B[39m\u001B[38;5;124mstartup\u001B[39m\u001B[38;5;124m\"\u001B[39m, install_shutdown_handlers, \u001B[38;5;28mself\u001B[39m\u001B[38;5;241m.\u001B[39m_signal_shutdown\n\u001B[0;32m    428\u001B[0m     )\n\u001B[1;32m--> 429\u001B[0m \u001B[43mreactor\u001B[49m\u001B[38;5;241;43m.\u001B[39;49m\u001B[43mrun\u001B[49m\u001B[43m(\u001B[49m\u001B[43minstallSignalHandlers\u001B[49m\u001B[38;5;241;43m=\u001B[39;49m\u001B[43minstall_signal_handlers\u001B[49m\u001B[43m)\u001B[49m\n",
      "File \u001B[1;32m~\\PycharmProjects\\PAD_Project\\.venv\\lib\\site-packages\\twisted\\internet\\base.py:695\u001B[0m, in \u001B[0;36mReactorBase.run\u001B[1;34m(self, installSignalHandlers)\u001B[0m\n\u001B[0;32m    694\u001B[0m \u001B[38;5;28;01mdef\u001B[39;00m \u001B[38;5;21mrun\u001B[39m(\u001B[38;5;28mself\u001B[39m, installSignalHandlers: \u001B[38;5;28mbool\u001B[39m \u001B[38;5;241m=\u001B[39m \u001B[38;5;28;01mTrue\u001B[39;00m) \u001B[38;5;241m-\u001B[39m\u001B[38;5;241m>\u001B[39m \u001B[38;5;28;01mNone\u001B[39;00m:\n\u001B[1;32m--> 695\u001B[0m     \u001B[38;5;28;43mself\u001B[39;49m\u001B[38;5;241;43m.\u001B[39;49m\u001B[43mstartRunning\u001B[49m\u001B[43m(\u001B[49m\u001B[43minstallSignalHandlers\u001B[49m\u001B[38;5;241;43m=\u001B[39;49m\u001B[43minstallSignalHandlers\u001B[49m\u001B[43m)\u001B[49m\n\u001B[0;32m    696\u001B[0m     \u001B[38;5;28;01mtry\u001B[39;00m:\n\u001B[0;32m    697\u001B[0m         \u001B[38;5;28mself\u001B[39m\u001B[38;5;241m.\u001B[39mmainLoop()\n",
      "File \u001B[1;32m~\\PycharmProjects\\PAD_Project\\.venv\\lib\\site-packages\\twisted\\internet\\base.py:926\u001B[0m, in \u001B[0;36mReactorBase.startRunning\u001B[1;34m(self, installSignalHandlers)\u001B[0m\n\u001B[0;32m    924\u001B[0m     \u001B[38;5;28;01mraise\u001B[39;00m error\u001B[38;5;241m.\u001B[39mReactorAlreadyRunning()\n\u001B[0;32m    925\u001B[0m \u001B[38;5;28;01mif\u001B[39;00m \u001B[38;5;28mself\u001B[39m\u001B[38;5;241m.\u001B[39m_startedBefore:\n\u001B[1;32m--> 926\u001B[0m     \u001B[38;5;28;01mraise\u001B[39;00m error\u001B[38;5;241m.\u001B[39mReactorNotRestartable()\n\u001B[0;32m    928\u001B[0m \u001B[38;5;28mself\u001B[39m\u001B[38;5;241m.\u001B[39m_signals\u001B[38;5;241m.\u001B[39muninstall()\n\u001B[0;32m    929\u001B[0m \u001B[38;5;28mself\u001B[39m\u001B[38;5;241m.\u001B[39m_installSignalHandlers \u001B[38;5;241m=\u001B[39m installSignalHandlers\n",
      "\u001B[1;31mReactorNotRestartable\u001B[0m: "
     ]
    }
   ],
   "execution_count": 3
  },
  {
   "metadata": {
    "ExecuteTime": {
     "end_time": "2024-11-24T16:21:22.109017Z",
     "start_time": "2024-11-24T16:21:22.056604Z"
    }
   },
   "cell_type": "code",
   "source": [
    "import pandas as pd\n",
    "\n",
    "konesso_df = pd.read_csv(r\"scrapped_pages/output_konesso.csv\", delimiter=\",\")\n",
    "konesso_df.head()"
   ],
   "id": "2e987a768eda7fcd",
   "outputs": [
    {
     "data": {
      "text/plain": [
       "                                                name  price_old  \\\n",
       "0  Kawa ziarnista Cornella Barista PRO Premium Gr...  129,99 zł   \n",
       "1  ZESTAW - Kawa ziarnista Costa Coffee Crema Ble...        NaN   \n",
       "2           Kawa ziarnista MRC. Cappuccino Blend 1kg  120,00 zł   \n",
       "3  ZESTAW - Kawa ziarnista Bazzara AROMAMORE 2x1k...        NaN   \n",
       "4  ZESTAW - Kawa ziarnista Bazzara DOLCEVIVACE 2x...        NaN   \n",
       "\n",
       "          price_netto  price_new  \n",
       "0   89,83 zł +23% VAT  110,49 zł  \n",
       "1   95,59 zł +23% VAT  117,58 zł  \n",
       "2   73,17 zł +23% VAT   90,00 zł  \n",
       "3  203,24 zł +23% VAT  249,99 zł  \n",
       "4  162,59 zł +23% VAT  199,98 zł  "
      ],
      "text/html": [
       "<div>\n",
       "<style scoped>\n",
       "    .dataframe tbody tr th:only-of-type {\n",
       "        vertical-align: middle;\n",
       "    }\n",
       "\n",
       "    .dataframe tbody tr th {\n",
       "        vertical-align: top;\n",
       "    }\n",
       "\n",
       "    .dataframe thead th {\n",
       "        text-align: right;\n",
       "    }\n",
       "</style>\n",
       "<table border=\"1\" class=\"dataframe\">\n",
       "  <thead>\n",
       "    <tr style=\"text-align: right;\">\n",
       "      <th></th>\n",
       "      <th>name</th>\n",
       "      <th>price_old</th>\n",
       "      <th>price_netto</th>\n",
       "      <th>price_new</th>\n",
       "    </tr>\n",
       "  </thead>\n",
       "  <tbody>\n",
       "    <tr>\n",
       "      <th>0</th>\n",
       "      <td>Kawa ziarnista Cornella Barista PRO Premium Gr...</td>\n",
       "      <td>129,99 zł</td>\n",
       "      <td>89,83 zł +23% VAT</td>\n",
       "      <td>110,49 zł</td>\n",
       "    </tr>\n",
       "    <tr>\n",
       "      <th>1</th>\n",
       "      <td>ZESTAW - Kawa ziarnista Costa Coffee Crema Ble...</td>\n",
       "      <td>NaN</td>\n",
       "      <td>95,59 zł +23% VAT</td>\n",
       "      <td>117,58 zł</td>\n",
       "    </tr>\n",
       "    <tr>\n",
       "      <th>2</th>\n",
       "      <td>Kawa ziarnista MRC. Cappuccino Blend 1kg</td>\n",
       "      <td>120,00 zł</td>\n",
       "      <td>73,17 zł +23% VAT</td>\n",
       "      <td>90,00 zł</td>\n",
       "    </tr>\n",
       "    <tr>\n",
       "      <th>3</th>\n",
       "      <td>ZESTAW - Kawa ziarnista Bazzara AROMAMORE 2x1k...</td>\n",
       "      <td>NaN</td>\n",
       "      <td>203,24 zł +23% VAT</td>\n",
       "      <td>249,99 zł</td>\n",
       "    </tr>\n",
       "    <tr>\n",
       "      <th>4</th>\n",
       "      <td>ZESTAW - Kawa ziarnista Bazzara DOLCEVIVACE 2x...</td>\n",
       "      <td>NaN</td>\n",
       "      <td>162,59 zł +23% VAT</td>\n",
       "      <td>199,98 zł</td>\n",
       "    </tr>\n",
       "  </tbody>\n",
       "</table>\n",
       "</div>"
      ]
     },
     "execution_count": 5,
     "metadata": {},
     "output_type": "execute_result"
    }
   ],
   "execution_count": 5
  },
  {
   "metadata": {
    "ExecuteTime": {
     "end_time": "2024-11-24T16:22:12.697256Z",
     "start_time": "2024-11-24T16:22:12.665677Z"
    }
   },
   "cell_type": "code",
   "source": [
    "konesso_df.dropna(inplace=True)\n",
    "print(konesso_df)"
   ],
   "id": "23bd7d8af31375be",
   "outputs": [
    {
     "name": "stdout",
     "output_type": "stream",
     "text": [
      "                                                   name  price_old  \\\n",
      "0     Kawa ziarnista Cornella Barista PRO Premium Gr...  129,99 zł   \n",
      "2              Kawa ziarnista MRC. Cappuccino Blend 1kg  120,00 zł   \n",
      "5                  Kawa ziarnista Bazzara AROMAMORE 1kg  132,99 zł   \n",
      "6             Kawa ziarnista Bazzara GRANCAPPUCCINO 1kg  129,99 zł   \n",
      "8      Kawa ziarnista LaCava Colombia Jairo Arcila 200g  119,00 zł   \n",
      "...                                                 ...        ...   \n",
      "2526       Kawa ziarnista Costa Coffee Crema Blend 500g   39,99 zł   \n",
      "2530  Kawa ziarnista Story Hakuna Matata Rwanda Gake...   59,00 zł   \n",
      "2531   Kawa ziarnista Story Espresso Into The Wind 250g   39,00 zł   \n",
      "2538  Kawa ziarnista Italcaffe Monorigine Colombia 250g   32,99 zł   \n",
      "2539  Kawa ziarnista Italcaffe Espresso Italiano Roy...   99,99 zł   \n",
      "\n",
      "            price_netto  price_new  \n",
      "0     89,83 zł +23% VAT  110,49 zł  \n",
      "2     73,17 zł +23% VAT   90,00 zł  \n",
      "5     89,74 zł +23% VAT  110,38 zł  \n",
      "6     87,72 zł +23% VAT  107,89 zł  \n",
      "8     67,72 zł +23% VAT   83,30 zł  \n",
      "...                 ...        ...  \n",
      "2526  22,76 zł +23% VAT   27,99 zł  \n",
      "2530  35,98 zł +23% VAT   44,25 zł  \n",
      "2531  23,78 zł +23% VAT   29,25 zł  \n",
      "2538  21,46 zł +23% VAT   26,39 zł  \n",
      "2539  65,03 zł +23% VAT   79,99 zł  \n",
      "\n",
      "[1842 rows x 4 columns]\n"
     ]
    }
   ],
   "execution_count": 7
  },
  {
   "metadata": {
    "ExecuteTime": {
     "end_time": "2024-11-24T16:40:10.297566Z",
     "start_time": "2024-11-24T16:40:10.263468Z"
    }
   },
   "cell_type": "code",
   "source": [
    "import re\n",
    "\n",
    "def clean_price(column):\n",
    "    cleaned_price = re.sub(r'[^\\d,]', '', column)\n",
    "    return cleaned_price\n",
    "\n",
    "\n",
    "def extract_weight(product_name):\n",
    "    match = re.search(r'(\\d+([,.]\\d+)?)\\s?(kg|g)', product_name, re.IGNORECASE)\n",
    "    if match:\n",
    "        weight_value = match.group(1)\n",
    "        weight_unit = match.group(3).lower()\n",
    "\n",
    "        if weight_unit == 'g':\n",
    "            weight_value = float(weight_value.replace(',', '.')) / 1000\n",
    "        else:\n",
    "            weight_value = float(weight_value.replace(',', '.'))\n",
    "\n",
    "        return weight_value, product_name.replace(match.group(0), '').strip()\n",
    "    return None, product_name\n",
    "\n",
    "\n",
    "konesso_df[\"price_old\"] = konesso_df[\"price_old\"].apply(clean_price)\n",
    "konesso_df[\"price_netto\"] = konesso_df[\"price_netto\"].apply(clean_price)\n",
    "konesso_df[\"price_new\"] = konesso_df[\"price_new\"].apply(clean_price)\n",
    "konesso_df[\"package_weight [KG]\"], konesso_df[\"name\"] =  zip(*konesso_df['name'].apply(extract_weight))\n",
    "\n",
    "konesso_df.rename(columns={\n",
    "    \"name\": \"product_name\",\n",
    "    \"price_old\": \"price_old [PLN]\",\n",
    "    \"price_netto\": \"price_netto [PLN]\",\n",
    "    \"price_new\": \"price_new [PLN]\",\n",
    "}, inplace=True)\n",
    "\n",
    "konesso_df.head()"
   ],
   "id": "1eb1c24757862f4",
   "outputs": [
    {
     "data": {
      "text/plain": [
       "                                        product_name price_old [PLN]  \\\n",
       "0  Kawa ziarnista Cornella Barista PRO Premium Gr...          129,99   \n",
       "2               Kawa ziarnista MRC. Cappuccino Blend          120,00   \n",
       "5                   Kawa ziarnista Bazzara AROMAMORE          132,99   \n",
       "6              Kawa ziarnista Bazzara GRANCAPPUCCINO          129,99   \n",
       "8        Kawa ziarnista LaCava Colombia Jairo Arcila          119,00   \n",
       "\n",
       "  price_netto [PLN] price_new [PLN]  package_weight [KG]  \n",
       "0           89,8323          110,49                  1.0  \n",
       "2           73,1723           90,00                  1.0  \n",
       "5           89,7423          110,38                  1.0  \n",
       "6           87,7223          107,89                  1.0  \n",
       "8           67,7223           83,30                  0.2  "
      ],
      "text/html": [
       "<div>\n",
       "<style scoped>\n",
       "    .dataframe tbody tr th:only-of-type {\n",
       "        vertical-align: middle;\n",
       "    }\n",
       "\n",
       "    .dataframe tbody tr th {\n",
       "        vertical-align: top;\n",
       "    }\n",
       "\n",
       "    .dataframe thead th {\n",
       "        text-align: right;\n",
       "    }\n",
       "</style>\n",
       "<table border=\"1\" class=\"dataframe\">\n",
       "  <thead>\n",
       "    <tr style=\"text-align: right;\">\n",
       "      <th></th>\n",
       "      <th>product_name</th>\n",
       "      <th>price_old [PLN]</th>\n",
       "      <th>price_netto [PLN]</th>\n",
       "      <th>price_new [PLN]</th>\n",
       "      <th>package_weight [KG]</th>\n",
       "    </tr>\n",
       "  </thead>\n",
       "  <tbody>\n",
       "    <tr>\n",
       "      <th>0</th>\n",
       "      <td>Kawa ziarnista Cornella Barista PRO Premium Gr...</td>\n",
       "      <td>129,99</td>\n",
       "      <td>89,8323</td>\n",
       "      <td>110,49</td>\n",
       "      <td>1.0</td>\n",
       "    </tr>\n",
       "    <tr>\n",
       "      <th>2</th>\n",
       "      <td>Kawa ziarnista MRC. Cappuccino Blend</td>\n",
       "      <td>120,00</td>\n",
       "      <td>73,1723</td>\n",
       "      <td>90,00</td>\n",
       "      <td>1.0</td>\n",
       "    </tr>\n",
       "    <tr>\n",
       "      <th>5</th>\n",
       "      <td>Kawa ziarnista Bazzara AROMAMORE</td>\n",
       "      <td>132,99</td>\n",
       "      <td>89,7423</td>\n",
       "      <td>110,38</td>\n",
       "      <td>1.0</td>\n",
       "    </tr>\n",
       "    <tr>\n",
       "      <th>6</th>\n",
       "      <td>Kawa ziarnista Bazzara GRANCAPPUCCINO</td>\n",
       "      <td>129,99</td>\n",
       "      <td>87,7223</td>\n",
       "      <td>107,89</td>\n",
       "      <td>1.0</td>\n",
       "    </tr>\n",
       "    <tr>\n",
       "      <th>8</th>\n",
       "      <td>Kawa ziarnista LaCava Colombia Jairo Arcila</td>\n",
       "      <td>119,00</td>\n",
       "      <td>67,7223</td>\n",
       "      <td>83,30</td>\n",
       "      <td>0.2</td>\n",
       "    </tr>\n",
       "  </tbody>\n",
       "</table>\n",
       "</div>"
      ]
     },
     "execution_count": 20,
     "metadata": {},
     "output_type": "execute_result"
    }
   ],
   "execution_count": 20
  },
  {
   "metadata": {
    "ExecuteTime": {
     "end_time": "2024-11-24T16:42:31.124405Z",
     "start_time": "2024-11-24T16:42:31.093154Z"
    }
   },
   "cell_type": "code",
   "source": "konesso_df.to_csv(r'cleaned_data/konesso_cleaned.csv', index=False, encoding='utf-8')",
   "id": "7cdb3d210a7a3340",
   "outputs": [],
   "execution_count": 23
  }
 ],
 "metadata": {
  "kernelspec": {
   "display_name": "Python 3",
   "language": "python",
   "name": "python3"
  },
  "language_info": {
   "codemirror_mode": {
    "name": "ipython",
    "version": 2
   },
   "file_extension": ".py",
   "mimetype": "text/x-python",
   "name": "python",
   "nbconvert_exporter": "python",
   "pygments_lexer": "ipython2",
   "version": "2.7.6"
  }
 },
 "nbformat": 4,
 "nbformat_minor": 5
}
