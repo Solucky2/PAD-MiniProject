{
 "cells": [
  {
   "cell_type": "code",
   "id": "initial_id",
   "metadata": {
    "collapsed": true,
    "ExecuteTime": {
     "end_time": "2024-11-24T17:10:39.810066Z",
     "start_time": "2024-11-24T17:10:39.733237Z"
    }
   },
   "source": [
    "from scrapy.crawler import CrawlerProcess\n",
    "from src.spiders.CoffeeCaveSpider import CoffeeCaveSpider\n",
    "\n",
    "process = CrawlerProcess(settings={\n",
    "    \"FEEDS\": {\n",
    "        \"scrapped_pages/output_coffe_cave.csv\": {\"format\": \"csv\"},\n",
    "    },\n",
    "})\n",
    "process.crawl(CoffeeCaveSpider)\n",
    "process.start()"
   ],
   "outputs": [
    {
     "name": "stderr",
     "output_type": "stream",
     "text": [
      "2024-11-24 18:10:39 [scrapy.utils.log] INFO: Scrapy 2.11.2 started (bot: scrapybot)\n",
      "2024-11-24 18:10:39 [scrapy.utils.log] INFO: Versions: lxml 5.3.0.0, libxml2 2.11.7, cssselect 1.2.0, parsel 1.9.1, w3lib 2.2.1, Twisted 24.10.0, Python 3.10.11 (tags/v3.10.11:7d4cc5a, Apr  5 2023, 00:38:17) [MSC v.1929 64 bit (AMD64)], pyOpenSSL 24.2.1 (OpenSSL 3.3.2 3 Sep 2024), cryptography 43.0.3, Platform Windows-10-10.0.22631-SP0\n",
      "2024-11-24 18:10:39 [scrapy.addons] INFO: Enabled addons:\n",
      "[]\n",
      "2024-11-24 18:10:39 [py.warnings] WARNING: C:\\Users\\oneks\\PycharmProjects\\PAD_Project\\.venv\\lib\\site-packages\\scrapy\\utils\\request.py:254: ScrapyDeprecationWarning: '2.6' is a deprecated value for the 'REQUEST_FINGERPRINTER_IMPLEMENTATION' setting.\n",
      "\n",
      "It is also the default value. In other words, it is normal to get this warning if you have not defined a value for the 'REQUEST_FINGERPRINTER_IMPLEMENTATION' setting. This is so for backward compatibility reasons, but it will change in a future version of Scrapy.\n",
      "\n",
      "See the documentation of the 'REQUEST_FINGERPRINTER_IMPLEMENTATION' setting for information on how to handle this deprecation.\n",
      "  return cls(crawler)\n",
      "\n",
      "2024-11-24 18:10:39 [scrapy.utils.log] DEBUG: Using reactor: twisted.internet.selectreactor.SelectReactor\n",
      "2024-11-24 18:10:39 [scrapy.extensions.telnet] INFO: Telnet Password: 6316697507f007fa\n",
      "2024-11-24 18:10:39 [scrapy.middleware] INFO: Enabled extensions:\n",
      "['scrapy.extensions.corestats.CoreStats',\n",
      " 'scrapy.extensions.telnet.TelnetConsole',\n",
      " 'scrapy.extensions.feedexport.FeedExporter',\n",
      " 'scrapy.extensions.logstats.LogStats']\n",
      "2024-11-24 18:10:39 [scrapy.crawler] INFO: Overridden settings:\n",
      "{}\n",
      "2024-11-24 18:10:39 [scrapy.middleware] INFO: Enabled downloader middlewares:\n",
      "['scrapy.downloadermiddlewares.offsite.OffsiteMiddleware',\n",
      " 'scrapy.downloadermiddlewares.httpauth.HttpAuthMiddleware',\n",
      " 'scrapy.downloadermiddlewares.downloadtimeout.DownloadTimeoutMiddleware',\n",
      " 'scrapy.downloadermiddlewares.defaultheaders.DefaultHeadersMiddleware',\n",
      " 'scrapy.downloadermiddlewares.useragent.UserAgentMiddleware',\n",
      " 'scrapy.downloadermiddlewares.retry.RetryMiddleware',\n",
      " 'scrapy.downloadermiddlewares.redirect.MetaRefreshMiddleware',\n",
      " 'scrapy.downloadermiddlewares.httpcompression.HttpCompressionMiddleware',\n",
      " 'scrapy.downloadermiddlewares.redirect.RedirectMiddleware',\n",
      " 'scrapy.downloadermiddlewares.cookies.CookiesMiddleware',\n",
      " 'scrapy.downloadermiddlewares.httpproxy.HttpProxyMiddleware',\n",
      " 'scrapy.downloadermiddlewares.stats.DownloaderStats']\n",
      "2024-11-24 18:10:39 [scrapy.middleware] INFO: Enabled spider middlewares:\n",
      "['scrapy.spidermiddlewares.httperror.HttpErrorMiddleware',\n",
      " 'scrapy.spidermiddlewares.referer.RefererMiddleware',\n",
      " 'scrapy.spidermiddlewares.urllength.UrlLengthMiddleware',\n",
      " 'scrapy.spidermiddlewares.depth.DepthMiddleware']\n",
      "2024-11-24 18:10:39 [scrapy.middleware] INFO: Enabled item pipelines:\n",
      "[]\n",
      "2024-11-24 18:10:39 [scrapy.core.engine] INFO: Spider opened\n",
      "2024-11-24 18:10:39 [scrapy.extensions.logstats] INFO: Crawled 0 pages (at 0 pages/min), scraped 0 items (at 0 items/min)\n",
      "2024-11-24 18:10:39 [scrapy.extensions.telnet] INFO: Telnet console listening on 127.0.0.1:6026\n"
     ]
    },
    {
     "ename": "ReactorNotRestartable",
     "evalue": "",
     "output_type": "error",
     "traceback": [
      "\u001B[1;31m---------------------------------------------------------------------------\u001B[0m",
      "\u001B[1;31mReactorNotRestartable\u001B[0m                     Traceback (most recent call last)",
      "Cell \u001B[1;32mIn[8], line 10\u001B[0m\n\u001B[0;32m      4\u001B[0m process \u001B[38;5;241m=\u001B[39m CrawlerProcess(settings\u001B[38;5;241m=\u001B[39m{\n\u001B[0;32m      5\u001B[0m     \u001B[38;5;124m\"\u001B[39m\u001B[38;5;124mFEEDS\u001B[39m\u001B[38;5;124m\"\u001B[39m: {\n\u001B[0;32m      6\u001B[0m         \u001B[38;5;124m\"\u001B[39m\u001B[38;5;124mscrapped_pages/output_coffe_cave.csv\u001B[39m\u001B[38;5;124m\"\u001B[39m: {\u001B[38;5;124m\"\u001B[39m\u001B[38;5;124mformat\u001B[39m\u001B[38;5;124m\"\u001B[39m: \u001B[38;5;124m\"\u001B[39m\u001B[38;5;124mcsv\u001B[39m\u001B[38;5;124m\"\u001B[39m},\n\u001B[0;32m      7\u001B[0m     },\n\u001B[0;32m      8\u001B[0m })\n\u001B[0;32m      9\u001B[0m process\u001B[38;5;241m.\u001B[39mcrawl(CoffeeCaveSpider)\n\u001B[1;32m---> 10\u001B[0m \u001B[43mprocess\u001B[49m\u001B[38;5;241;43m.\u001B[39;49m\u001B[43mstart\u001B[49m\u001B[43m(\u001B[49m\u001B[43m)\u001B[49m\n",
      "File \u001B[1;32m~\\PycharmProjects\\PAD_Project\\.venv\\lib\\site-packages\\scrapy\\crawler.py:429\u001B[0m, in \u001B[0;36mCrawlerProcess.start\u001B[1;34m(self, stop_after_crawl, install_signal_handlers)\u001B[0m\n\u001B[0;32m    425\u001B[0m \u001B[38;5;28;01mif\u001B[39;00m install_signal_handlers:\n\u001B[0;32m    426\u001B[0m     reactor\u001B[38;5;241m.\u001B[39maddSystemEventTrigger(\n\u001B[0;32m    427\u001B[0m         \u001B[38;5;124m\"\u001B[39m\u001B[38;5;124mafter\u001B[39m\u001B[38;5;124m\"\u001B[39m, \u001B[38;5;124m\"\u001B[39m\u001B[38;5;124mstartup\u001B[39m\u001B[38;5;124m\"\u001B[39m, install_shutdown_handlers, \u001B[38;5;28mself\u001B[39m\u001B[38;5;241m.\u001B[39m_signal_shutdown\n\u001B[0;32m    428\u001B[0m     )\n\u001B[1;32m--> 429\u001B[0m \u001B[43mreactor\u001B[49m\u001B[38;5;241;43m.\u001B[39;49m\u001B[43mrun\u001B[49m\u001B[43m(\u001B[49m\u001B[43minstallSignalHandlers\u001B[49m\u001B[38;5;241;43m=\u001B[39;49m\u001B[43minstall_signal_handlers\u001B[49m\u001B[43m)\u001B[49m\n",
      "File \u001B[1;32m~\\PycharmProjects\\PAD_Project\\.venv\\lib\\site-packages\\twisted\\internet\\base.py:695\u001B[0m, in \u001B[0;36mReactorBase.run\u001B[1;34m(self, installSignalHandlers)\u001B[0m\n\u001B[0;32m    694\u001B[0m \u001B[38;5;28;01mdef\u001B[39;00m \u001B[38;5;21mrun\u001B[39m(\u001B[38;5;28mself\u001B[39m, installSignalHandlers: \u001B[38;5;28mbool\u001B[39m \u001B[38;5;241m=\u001B[39m \u001B[38;5;28;01mTrue\u001B[39;00m) \u001B[38;5;241m-\u001B[39m\u001B[38;5;241m>\u001B[39m \u001B[38;5;28;01mNone\u001B[39;00m:\n\u001B[1;32m--> 695\u001B[0m     \u001B[38;5;28;43mself\u001B[39;49m\u001B[38;5;241;43m.\u001B[39;49m\u001B[43mstartRunning\u001B[49m\u001B[43m(\u001B[49m\u001B[43minstallSignalHandlers\u001B[49m\u001B[38;5;241;43m=\u001B[39;49m\u001B[43minstallSignalHandlers\u001B[49m\u001B[43m)\u001B[49m\n\u001B[0;32m    696\u001B[0m     \u001B[38;5;28;01mtry\u001B[39;00m:\n\u001B[0;32m    697\u001B[0m         \u001B[38;5;28mself\u001B[39m\u001B[38;5;241m.\u001B[39mmainLoop()\n",
      "File \u001B[1;32m~\\PycharmProjects\\PAD_Project\\.venv\\lib\\site-packages\\twisted\\internet\\base.py:926\u001B[0m, in \u001B[0;36mReactorBase.startRunning\u001B[1;34m(self, installSignalHandlers)\u001B[0m\n\u001B[0;32m    924\u001B[0m     \u001B[38;5;28;01mraise\u001B[39;00m error\u001B[38;5;241m.\u001B[39mReactorAlreadyRunning()\n\u001B[0;32m    925\u001B[0m \u001B[38;5;28;01mif\u001B[39;00m \u001B[38;5;28mself\u001B[39m\u001B[38;5;241m.\u001B[39m_startedBefore:\n\u001B[1;32m--> 926\u001B[0m     \u001B[38;5;28;01mraise\u001B[39;00m error\u001B[38;5;241m.\u001B[39mReactorNotRestartable()\n\u001B[0;32m    928\u001B[0m \u001B[38;5;28mself\u001B[39m\u001B[38;5;241m.\u001B[39m_signals\u001B[38;5;241m.\u001B[39muninstall()\n\u001B[0;32m    929\u001B[0m \u001B[38;5;28mself\u001B[39m\u001B[38;5;241m.\u001B[39m_installSignalHandlers \u001B[38;5;241m=\u001B[39m installSignalHandlers\n",
      "\u001B[1;31mReactorNotRestartable\u001B[0m: "
     ]
    }
   ],
   "execution_count": 8
  },
  {
   "metadata": {
    "ExecuteTime": {
     "end_time": "2024-11-25T18:44:58.459985Z",
     "start_time": "2024-11-25T18:44:57.991545Z"
    }
   },
   "cell_type": "code",
   "source": [
    "import pandas as pd\n",
    "\n",
    "coffee_cave_df = pd.read_csv(r\"scrapped_pages/output_coffe_cave.csv\", delimiter=\",\")\n",
    "coffee_cave_df.head()"
   ],
   "id": "9c20f6d0891833c7",
   "outputs": [
    {
     "data": {
      "text/plain": [
       "                                  name     price\n",
       "0     Kawa mielona Brazylia Santos 1kg  83.00 zł\n",
       "1   Kawa ziarnista Brazylia Santos 1kg  83.00 zł\n",
       "2    Kawa mielona Brazylia Santos 500g  46.00 zł\n",
       "3  Kawa ziarnista Brazylia Santos 500g  46.00 zł\n",
       "4    Kawa mielona Brazylia Santos 250g  28.00 zł"
      ],
      "text/html": [
       "<div>\n",
       "<style scoped>\n",
       "    .dataframe tbody tr th:only-of-type {\n",
       "        vertical-align: middle;\n",
       "    }\n",
       "\n",
       "    .dataframe tbody tr th {\n",
       "        vertical-align: top;\n",
       "    }\n",
       "\n",
       "    .dataframe thead th {\n",
       "        text-align: right;\n",
       "    }\n",
       "</style>\n",
       "<table border=\"1\" class=\"dataframe\">\n",
       "  <thead>\n",
       "    <tr style=\"text-align: right;\">\n",
       "      <th></th>\n",
       "      <th>name</th>\n",
       "      <th>price</th>\n",
       "    </tr>\n",
       "  </thead>\n",
       "  <tbody>\n",
       "    <tr>\n",
       "      <th>0</th>\n",
       "      <td>Kawa mielona Brazylia Santos 1kg</td>\n",
       "      <td>83.00 zł</td>\n",
       "    </tr>\n",
       "    <tr>\n",
       "      <th>1</th>\n",
       "      <td>Kawa ziarnista Brazylia Santos 1kg</td>\n",
       "      <td>83.00 zł</td>\n",
       "    </tr>\n",
       "    <tr>\n",
       "      <th>2</th>\n",
       "      <td>Kawa mielona Brazylia Santos 500g</td>\n",
       "      <td>46.00 zł</td>\n",
       "    </tr>\n",
       "    <tr>\n",
       "      <th>3</th>\n",
       "      <td>Kawa ziarnista Brazylia Santos 500g</td>\n",
       "      <td>46.00 zł</td>\n",
       "    </tr>\n",
       "    <tr>\n",
       "      <th>4</th>\n",
       "      <td>Kawa mielona Brazylia Santos 250g</td>\n",
       "      <td>28.00 zł</td>\n",
       "    </tr>\n",
       "  </tbody>\n",
       "</table>\n",
       "</div>"
      ]
     },
     "execution_count": 1,
     "metadata": {},
     "output_type": "execute_result"
    }
   ],
   "execution_count": 1
  },
  {
   "metadata": {
    "ExecuteTime": {
     "end_time": "2024-11-25T18:45:00.845783Z",
     "start_time": "2024-11-25T18:45:00.824650Z"
    }
   },
   "cell_type": "code",
   "source": [
    "coffee_cave_df.dropna(inplace=True)\n",
    "print(coffee_cave_df)"
   ],
   "id": "de1bda3dff8f5de3",
   "outputs": [
    {
     "name": "stdout",
     "output_type": "stream",
     "text": [
      "                                    name      price\n",
      "0       Kawa mielona Brazylia Santos 1kg   83.00 zł\n",
      "1     Kawa ziarnista Brazylia Santos 1kg   83.00 zł\n",
      "2      Kawa mielona Brazylia Santos 500g   46.00 zł\n",
      "3    Kawa ziarnista Brazylia Santos 500g   46.00 zł\n",
      "4      Kawa mielona Brazylia Santos 250g   28.00 zł\n",
      "..                                   ...        ...\n",
      "115    Kawa ziarnista Etiopia Sidamo 1kg  129.00 zł\n",
      "116     Kawa mielona Etiopia Sidamo 500g   67.00 zł\n",
      "117   Kawa ziarnista Etiopia Sidamo 500g   67.00 zł\n",
      "118     Kawa mielona Etiopia Sidamo 250g   32.00 zł\n",
      "119    Kawa ziarnista Etiopia Sidamo 250   32.00 zł\n",
      "\n",
      "[120 rows x 2 columns]\n"
     ]
    }
   ],
   "execution_count": 2
  },
  {
   "metadata": {
    "ExecuteTime": {
     "end_time": "2024-11-25T18:45:02.773404Z",
     "start_time": "2024-11-25T18:45:02.741744Z"
    }
   },
   "cell_type": "code",
   "source": [
    "import re\n",
    "import numpy as np\n",
    "\n",
    "def clean_price(column):\n",
    "    cleaned_price = re.sub(r'[^\\d,]', '', column)\n",
    "    return cleaned_price[:-2] + \",\" + cleaned_price[-2:]\n",
    "\n",
    "def extract_weight(product_name):\n",
    "    match = re.search(r'(\\d+([,.]\\d+)?)\\s?(kg|g)', product_name, re.IGNORECASE)\n",
    "    if match:\n",
    "        weight_value = match.group(1)\n",
    "        weight_unit = match.group(3).lower()\n",
    "        if weight_unit == 'g':\n",
    "            weight_value = float(weight_value.replace(',', '.')) / 1000\n",
    "        else:\n",
    "            weight_value = float(weight_value.replace(',', '.'))\n",
    "\n",
    "        clean_name = product_name.replace(match.group(0), '').strip()\n",
    "        return weight_value, clean_name\n",
    "\n",
    "    else:\n",
    "        number_match = re.search(r'(\\d+)$', product_name)\n",
    "        if number_match:\n",
    "            weight_value = int(number_match.group(1)) / 1000\n",
    "            clean_name = product_name.replace(number_match.group(1), '').strip()\n",
    "            return weight_value, clean_name\n",
    "        else:\n",
    "            return np.nan, product_name\n",
    "\n",
    "coffee_cave_df[\"price\"] = coffee_cave_df[\"price\"].apply(clean_price)\n",
    "coffee_cave_df[\"product_weight\"], coffee_cave_df[\"name\"] = zip(*coffee_cave_df[\"name\"].apply(extract_weight))\n",
    "\n",
    "coffee_cave_df.rename(columns={\n",
    "    \"price\": \"new_price [PLN]\",\n",
    "    \"name\": \"product_name\",\n",
    "    \"product_weight\": \"product_weight\",\n",
    "}, inplace=True)\n",
    "coffee_cave_df[\"new_price [PLN]\"] = coffee_cave_df[\"new_price [PLN]\"].str.replace(\",\", \".\").astype(float)\n",
    "\n",
    "coffee_cave_df.head()"
   ],
   "id": "5540c579a110cee8",
   "outputs": [
    {
     "data": {
      "text/plain": [
       "                     product_name  new_price [PLN]  product_weight\n",
       "0    Kawa mielona Brazylia Santos             83.0            1.00\n",
       "1  Kawa ziarnista Brazylia Santos             83.0            1.00\n",
       "2    Kawa mielona Brazylia Santos             46.0            0.50\n",
       "3  Kawa ziarnista Brazylia Santos             46.0            0.50\n",
       "4    Kawa mielona Brazylia Santos             28.0            0.25"
      ],
      "text/html": [
       "<div>\n",
       "<style scoped>\n",
       "    .dataframe tbody tr th:only-of-type {\n",
       "        vertical-align: middle;\n",
       "    }\n",
       "\n",
       "    .dataframe tbody tr th {\n",
       "        vertical-align: top;\n",
       "    }\n",
       "\n",
       "    .dataframe thead th {\n",
       "        text-align: right;\n",
       "    }\n",
       "</style>\n",
       "<table border=\"1\" class=\"dataframe\">\n",
       "  <thead>\n",
       "    <tr style=\"text-align: right;\">\n",
       "      <th></th>\n",
       "      <th>product_name</th>\n",
       "      <th>new_price [PLN]</th>\n",
       "      <th>product_weight</th>\n",
       "    </tr>\n",
       "  </thead>\n",
       "  <tbody>\n",
       "    <tr>\n",
       "      <th>0</th>\n",
       "      <td>Kawa mielona Brazylia Santos</td>\n",
       "      <td>83.0</td>\n",
       "      <td>1.00</td>\n",
       "    </tr>\n",
       "    <tr>\n",
       "      <th>1</th>\n",
       "      <td>Kawa ziarnista Brazylia Santos</td>\n",
       "      <td>83.0</td>\n",
       "      <td>1.00</td>\n",
       "    </tr>\n",
       "    <tr>\n",
       "      <th>2</th>\n",
       "      <td>Kawa mielona Brazylia Santos</td>\n",
       "      <td>46.0</td>\n",
       "      <td>0.50</td>\n",
       "    </tr>\n",
       "    <tr>\n",
       "      <th>3</th>\n",
       "      <td>Kawa ziarnista Brazylia Santos</td>\n",
       "      <td>46.0</td>\n",
       "      <td>0.50</td>\n",
       "    </tr>\n",
       "    <tr>\n",
       "      <th>4</th>\n",
       "      <td>Kawa mielona Brazylia Santos</td>\n",
       "      <td>28.0</td>\n",
       "      <td>0.25</td>\n",
       "    </tr>\n",
       "  </tbody>\n",
       "</table>\n",
       "</div>"
      ]
     },
     "execution_count": 3,
     "metadata": {},
     "output_type": "execute_result"
    }
   ],
   "execution_count": 3
  },
  {
   "metadata": {
    "ExecuteTime": {
     "end_time": "2024-11-25T18:45:13.209718Z",
     "start_time": "2024-11-25T18:45:13.194711Z"
    }
   },
   "cell_type": "code",
   "source": "coffee_cave_df.to_csv(\"cleaned_data/coffee_cave_cleaned.csv\", index=False, encoding='utf-8')",
   "id": "b15fb441778ce313",
   "outputs": [],
   "execution_count": 4
  }
 ],
 "metadata": {
  "kernelspec": {
   "display_name": "Python 3",
   "language": "python",
   "name": "python3"
  },
  "language_info": {
   "codemirror_mode": {
    "name": "ipython",
    "version": 2
   },
   "file_extension": ".py",
   "mimetype": "text/x-python",
   "name": "python",
   "nbconvert_exporter": "python",
   "pygments_lexer": "ipython2",
   "version": "2.7.6"
  }
 },
 "nbformat": 4,
 "nbformat_minor": 5
}
