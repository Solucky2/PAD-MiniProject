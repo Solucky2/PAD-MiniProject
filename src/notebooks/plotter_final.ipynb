{
 "cells": [
  {
   "cell_type": "code",
   "id": "initial_id",
   "metadata": {
    "collapsed": true,
    "ExecuteTime": {
     "end_time": "2024-11-28T21:52:10.872520Z",
     "start_time": "2024-11-28T21:52:10.842173Z"
    }
   },
   "source": [
    "from src.helpers import *\n",
    "\n",
    "\n",
    "konesso_df = pd.read_csv(r\"cleaned_data/konesso_cleaned.csv\")\n",
    "pk_df = pd.read_csv(r\"cleaned_data/pk_cleaned.csv\")\n",
    "cc_df = pd.read_csv(r\"cleaned_data/coffee_cave_cleaned.csv\")\n",
    "\n",
    "data_frame_dict = {\n",
    "    \"konesso_df\": konesso_df,\n",
    "    \"cc_df\": cc_df,\n",
    "    \"pk_df\": pk_df\n",
    "}"
   ],
   "outputs": [],
   "execution_count": 111
  },
  {
   "metadata": {
    "ExecuteTime": {
     "end_time": "2024-11-28T21:52:10.903509Z",
     "start_time": "2024-11-28T21:52:10.883465Z"
    }
   },
   "cell_type": "code",
   "source": "pk_df.head()",
   "id": "d69f2800048b674d",
   "outputs": [
    {
     "data": {
      "text/plain": [
       "                                        product_name  price_old [PLN]  \\\n",
       "0                 Zestaw kawy ziarnistej Caprisette,           150.80   \n",
       "1  Zestaw ziaren kawy Caprisette,  w świątecznym ...           160.99   \n",
       "2             Zestaw kaw ziarnistych Caprisette TOP,           145.97   \n",
       "3                   Zestaw kawy mielonej Caprisette,           150.80   \n",
       "4  Zestaw kawy mielonej Caprisette,  w świąteczny...           160.99   \n",
       "\n",
       "   new_price [PLN]  product_quantity  product_weight  \n",
       "0           102.50                 4            0.25  \n",
       "1            80.50                 4            0.25  \n",
       "2            87.58                 3            0.25  \n",
       "3           102.50                 4            0.25  \n",
       "4            80.50                 4            0.25  "
      ],
      "text/html": [
       "<div>\n",
       "<style scoped>\n",
       "    .dataframe tbody tr th:only-of-type {\n",
       "        vertical-align: middle;\n",
       "    }\n",
       "\n",
       "    .dataframe tbody tr th {\n",
       "        vertical-align: top;\n",
       "    }\n",
       "\n",
       "    .dataframe thead th {\n",
       "        text-align: right;\n",
       "    }\n",
       "</style>\n",
       "<table border=\"1\" class=\"dataframe\">\n",
       "  <thead>\n",
       "    <tr style=\"text-align: right;\">\n",
       "      <th></th>\n",
       "      <th>product_name</th>\n",
       "      <th>price_old [PLN]</th>\n",
       "      <th>new_price [PLN]</th>\n",
       "      <th>product_quantity</th>\n",
       "      <th>product_weight</th>\n",
       "    </tr>\n",
       "  </thead>\n",
       "  <tbody>\n",
       "    <tr>\n",
       "      <th>0</th>\n",
       "      <td>Zestaw kawy ziarnistej Caprisette,</td>\n",
       "      <td>150.80</td>\n",
       "      <td>102.50</td>\n",
       "      <td>4</td>\n",
       "      <td>0.25</td>\n",
       "    </tr>\n",
       "    <tr>\n",
       "      <th>1</th>\n",
       "      <td>Zestaw ziaren kawy Caprisette,  w świątecznym ...</td>\n",
       "      <td>160.99</td>\n",
       "      <td>80.50</td>\n",
       "      <td>4</td>\n",
       "      <td>0.25</td>\n",
       "    </tr>\n",
       "    <tr>\n",
       "      <th>2</th>\n",
       "      <td>Zestaw kaw ziarnistych Caprisette TOP,</td>\n",
       "      <td>145.97</td>\n",
       "      <td>87.58</td>\n",
       "      <td>3</td>\n",
       "      <td>0.25</td>\n",
       "    </tr>\n",
       "    <tr>\n",
       "      <th>3</th>\n",
       "      <td>Zestaw kawy mielonej Caprisette,</td>\n",
       "      <td>150.80</td>\n",
       "      <td>102.50</td>\n",
       "      <td>4</td>\n",
       "      <td>0.25</td>\n",
       "    </tr>\n",
       "    <tr>\n",
       "      <th>4</th>\n",
       "      <td>Zestaw kawy mielonej Caprisette,  w świąteczny...</td>\n",
       "      <td>160.99</td>\n",
       "      <td>80.50</td>\n",
       "      <td>4</td>\n",
       "      <td>0.25</td>\n",
       "    </tr>\n",
       "  </tbody>\n",
       "</table>\n",
       "</div>"
      ]
     },
     "execution_count": 112,
     "metadata": {},
     "output_type": "execute_result"
    }
   ],
   "execution_count": 112
  },
  {
   "metadata": {
    "ExecuteTime": {
     "end_time": "2024-11-28T21:52:10.996080Z",
     "start_time": "2024-11-28T21:52:10.985154Z"
    }
   },
   "cell_type": "code",
   "source": "konesso_df.head()",
   "id": "a72d51c4cc04144f",
   "outputs": [
    {
     "data": {
      "text/plain": [
       "                                        product_name  price_old [PLN]  \\\n",
       "0  Kawa ziarnista Cornella Barista PRO Premium Gr...           129.99   \n",
       "1               Kawa ziarnista MRC. Cappuccino Blend           120.00   \n",
       "2                   Kawa ziarnista Bazzara AROMAMORE           132.99   \n",
       "3              Kawa ziarnista Bazzara GRANCAPPUCCINO           129.99   \n",
       "4        Kawa ziarnista LaCava Colombia Jairo Arcila           119.00   \n",
       "\n",
       "   price_netto [PLN]  new_price [PLN]  package_weight [KG]  \n",
       "0            89.8323           110.49                  1.0  \n",
       "1            73.1723            90.00                  1.0  \n",
       "2            89.7423           110.38                  1.0  \n",
       "3            87.7223           107.89                  1.0  \n",
       "4            67.7223            83.30                  0.2  "
      ],
      "text/html": [
       "<div>\n",
       "<style scoped>\n",
       "    .dataframe tbody tr th:only-of-type {\n",
       "        vertical-align: middle;\n",
       "    }\n",
       "\n",
       "    .dataframe tbody tr th {\n",
       "        vertical-align: top;\n",
       "    }\n",
       "\n",
       "    .dataframe thead th {\n",
       "        text-align: right;\n",
       "    }\n",
       "</style>\n",
       "<table border=\"1\" class=\"dataframe\">\n",
       "  <thead>\n",
       "    <tr style=\"text-align: right;\">\n",
       "      <th></th>\n",
       "      <th>product_name</th>\n",
       "      <th>price_old [PLN]</th>\n",
       "      <th>price_netto [PLN]</th>\n",
       "      <th>new_price [PLN]</th>\n",
       "      <th>package_weight [KG]</th>\n",
       "    </tr>\n",
       "  </thead>\n",
       "  <tbody>\n",
       "    <tr>\n",
       "      <th>0</th>\n",
       "      <td>Kawa ziarnista Cornella Barista PRO Premium Gr...</td>\n",
       "      <td>129.99</td>\n",
       "      <td>89.8323</td>\n",
       "      <td>110.49</td>\n",
       "      <td>1.0</td>\n",
       "    </tr>\n",
       "    <tr>\n",
       "      <th>1</th>\n",
       "      <td>Kawa ziarnista MRC. Cappuccino Blend</td>\n",
       "      <td>120.00</td>\n",
       "      <td>73.1723</td>\n",
       "      <td>90.00</td>\n",
       "      <td>1.0</td>\n",
       "    </tr>\n",
       "    <tr>\n",
       "      <th>2</th>\n",
       "      <td>Kawa ziarnista Bazzara AROMAMORE</td>\n",
       "      <td>132.99</td>\n",
       "      <td>89.7423</td>\n",
       "      <td>110.38</td>\n",
       "      <td>1.0</td>\n",
       "    </tr>\n",
       "    <tr>\n",
       "      <th>3</th>\n",
       "      <td>Kawa ziarnista Bazzara GRANCAPPUCCINO</td>\n",
       "      <td>129.99</td>\n",
       "      <td>87.7223</td>\n",
       "      <td>107.89</td>\n",
       "      <td>1.0</td>\n",
       "    </tr>\n",
       "    <tr>\n",
       "      <th>4</th>\n",
       "      <td>Kawa ziarnista LaCava Colombia Jairo Arcila</td>\n",
       "      <td>119.00</td>\n",
       "      <td>67.7223</td>\n",
       "      <td>83.30</td>\n",
       "      <td>0.2</td>\n",
       "    </tr>\n",
       "  </tbody>\n",
       "</table>\n",
       "</div>"
      ]
     },
     "execution_count": 113,
     "metadata": {},
     "output_type": "execute_result"
    }
   ],
   "execution_count": 113
  },
  {
   "metadata": {
    "ExecuteTime": {
     "end_time": "2024-11-28T21:52:11.121290Z",
     "start_time": "2024-11-28T21:52:11.108685Z"
    }
   },
   "cell_type": "code",
   "source": "cc_df.head()",
   "id": "5e918512c58b4c58",
   "outputs": [
    {
     "data": {
      "text/plain": [
       "                     product_name  new_price [PLN]  product_weight\n",
       "0    Kawa mielona Brazylia Santos             83.0            1.00\n",
       "1  Kawa ziarnista Brazylia Santos             83.0            1.00\n",
       "2    Kawa mielona Brazylia Santos             46.0            0.50\n",
       "3  Kawa ziarnista Brazylia Santos             46.0            0.50\n",
       "4    Kawa mielona Brazylia Santos             28.0            0.25"
      ],
      "text/html": [
       "<div>\n",
       "<style scoped>\n",
       "    .dataframe tbody tr th:only-of-type {\n",
       "        vertical-align: middle;\n",
       "    }\n",
       "\n",
       "    .dataframe tbody tr th {\n",
       "        vertical-align: top;\n",
       "    }\n",
       "\n",
       "    .dataframe thead th {\n",
       "        text-align: right;\n",
       "    }\n",
       "</style>\n",
       "<table border=\"1\" class=\"dataframe\">\n",
       "  <thead>\n",
       "    <tr style=\"text-align: right;\">\n",
       "      <th></th>\n",
       "      <th>product_name</th>\n",
       "      <th>new_price [PLN]</th>\n",
       "      <th>product_weight</th>\n",
       "    </tr>\n",
       "  </thead>\n",
       "  <tbody>\n",
       "    <tr>\n",
       "      <th>0</th>\n",
       "      <td>Kawa mielona Brazylia Santos</td>\n",
       "      <td>83.0</td>\n",
       "      <td>1.00</td>\n",
       "    </tr>\n",
       "    <tr>\n",
       "      <th>1</th>\n",
       "      <td>Kawa ziarnista Brazylia Santos</td>\n",
       "      <td>83.0</td>\n",
       "      <td>1.00</td>\n",
       "    </tr>\n",
       "    <tr>\n",
       "      <th>2</th>\n",
       "      <td>Kawa mielona Brazylia Santos</td>\n",
       "      <td>46.0</td>\n",
       "      <td>0.50</td>\n",
       "    </tr>\n",
       "    <tr>\n",
       "      <th>3</th>\n",
       "      <td>Kawa ziarnista Brazylia Santos</td>\n",
       "      <td>46.0</td>\n",
       "      <td>0.50</td>\n",
       "    </tr>\n",
       "    <tr>\n",
       "      <th>4</th>\n",
       "      <td>Kawa mielona Brazylia Santos</td>\n",
       "      <td>28.0</td>\n",
       "      <td>0.25</td>\n",
       "    </tr>\n",
       "  </tbody>\n",
       "</table>\n",
       "</div>"
      ]
     },
     "execution_count": 114,
     "metadata": {},
     "output_type": "execute_result"
    }
   ],
   "execution_count": 114
  },
  {
   "metadata": {
    "ExecuteTime": {
     "end_time": "2024-11-28T21:52:11.602864Z",
     "start_time": "2024-11-28T21:52:11.326961Z"
    }
   },
   "cell_type": "code",
   "source": "plot_bar_chart_for_price(pk_df, \"new_price [PLN]\", \"skyblue\")",
   "id": "dec02812cbd2cf8c",
   "outputs": [
    {
     "data": {
      "text/plain": [
       "<Figure size 1000x600 with 1 Axes>"
      ],
      "image/png": "[encoded data removed]"
     },
     "metadata": {},
     "output_type": "display_data"
    }
   ],
   "execution_count": 115
  },
  {
   "metadata": {
    "ExecuteTime": {
     "end_time": "2024-11-28T21:52:11.878730Z",
     "start_time": "2024-11-28T21:52:11.652340Z"
    }
   },
   "cell_type": "code",
   "source": "plot_bar_chart_for_price(cc_df, \"new_price [PLN]\", \"green\")",
   "id": "4ea6f0fb84e73f1",
   "outputs": [
    {
     "data": {
      "text/plain": [
       "<Figure size 1000x600 with 1 Axes>"
      ],
      "image/png": "[encoded data removed]"
     },
     "metadata": {},
     "output_type": "display_data"
    }
   ],
   "execution_count": 116
  },
  {
   "metadata": {
    "ExecuteTime": {
     "end_time": "2024-11-28T21:52:13.427602Z",
     "start_time": "2024-11-28T21:52:11.892077Z"
    }
   },
   "cell_type": "code",
   "source": "plot_bar_chart_for_price(konesso_df, \"new_price [PLN]\", \"red\")",
   "id": "bee9d95e356ecfac",
   "outputs": [
    {
     "data": {
      "text/plain": [
       "<Figure size 1000x600 with 1 Axes>"
      ],
      "image/png": "[encoded data removed]"
     },
     "metadata": {},
     "output_type": "display_data"
    }
   ],
   "execution_count": 117
  },
  {
   "metadata": {
    "ExecuteTime": {
     "end_time": "2024-11-28T21:52:13.490028Z",
     "start_time": "2024-11-28T21:52:13.477284Z"
    }
   },
   "cell_type": "code",
   "source": "calculate_average_prices(data_frame_dict)",
   "id": "d4ee901024841119",
   "outputs": [
    {
     "data": {
      "text/plain": [
       "      df_name  avg_price [PLN]\n",
       "0  konesso_df        59.534544\n",
       "1       cc_df        59.716333\n",
       "2       pk_df        56.745611"
      ],
      "text/html": [
       "<div>\n",
       "<style scoped>\n",
       "    .dataframe tbody tr th:only-of-type {\n",
       "        vertical-align: middle;\n",
       "    }\n",
       "\n",
       "    .dataframe tbody tr th {\n",
       "        vertical-align: top;\n",
       "    }\n",
       "\n",
       "    .dataframe thead th {\n",
       "        text-align: right;\n",
       "    }\n",
       "</style>\n",
       "<table border=\"1\" class=\"dataframe\">\n",
       "  <thead>\n",
       "    <tr style=\"text-align: right;\">\n",
       "      <th></th>\n",
       "      <th>df_name</th>\n",
       "      <th>avg_price [PLN]</th>\n",
       "    </tr>\n",
       "  </thead>\n",
       "  <tbody>\n",
       "    <tr>\n",
       "      <th>0</th>\n",
       "      <td>konesso_df</td>\n",
       "      <td>59.534544</td>\n",
       "    </tr>\n",
       "    <tr>\n",
       "      <th>1</th>\n",
       "      <td>cc_df</td>\n",
       "      <td>59.716333</td>\n",
       "    </tr>\n",
       "    <tr>\n",
       "      <th>2</th>\n",
       "      <td>pk_df</td>\n",
       "      <td>56.745611</td>\n",
       "    </tr>\n",
       "  </tbody>\n",
       "</table>\n",
       "</div>"
      ]
     },
     "execution_count": 118,
     "metadata": {},
     "output_type": "execute_result"
    }
   ],
   "execution_count": 118
  },
  {
   "metadata": {
    "ExecuteTime": {
     "end_time": "2024-11-28T21:52:13.601369Z",
     "start_time": "2024-11-28T21:52:13.586839Z"
    }
   },
   "cell_type": "code",
   "source": "calculate_minmax_prices(data_frame_dict)",
   "id": "d5664cbe28260204",
   "outputs": [
    {
     "data": {
      "text/plain": [
       "                                                  min_product  \\\n",
       "df_name                                                         \n",
       "konesso_df                   LaCava Limy Nitro Cold Bru 200ml   \n",
       "cc_df                            Kawa mielona Taka dla Ciebie   \n",
       "pk_df       Kapsułki do ekspresu Tchibo Cafissimo / Caffit...   \n",
       "\n",
       "            min_price [PLN]                                     max_product  \\\n",
       "df_name                                                                       \n",
       "konesso_df             7.19  ZESTAW 6x Kawa ziarnista Bazzara DODICIGRANCRU   \n",
       "cc_df                 22.00                Kawa mielona Etiopia Yirgacheffe   \n",
       "pk_df                 13.53      Zestaw kawy ziarnistej Single Origin, 3 kg   \n",
       "\n",
       "            max_price [PLN]  \n",
       "df_name                      \n",
       "konesso_df           780.54  \n",
       "cc_df                135.00  \n",
       "pk_df                359.98  "
      ],
      "text/html": [
       "<div>\n",
       "<style scoped>\n",
       "    .dataframe tbody tr th:only-of-type {\n",
       "        vertical-align: middle;\n",
       "    }\n",
       "\n",
       "    .dataframe tbody tr th {\n",
       "        vertical-align: top;\n",
       "    }\n",
       "\n",
       "    .dataframe thead th {\n",
       "        text-align: right;\n",
       "    }\n",
       "</style>\n",
       "<table border=\"1\" class=\"dataframe\">\n",
       "  <thead>\n",
       "    <tr style=\"text-align: right;\">\n",
       "      <th></th>\n",
       "      <th>min_product</th>\n",
       "      <th>min_price [PLN]</th>\n",
       "      <th>max_product</th>\n",
       "      <th>max_price [PLN]</th>\n",
       "    </tr>\n",
       "    <tr>\n",
       "      <th>df_name</th>\n",
       "      <th></th>\n",
       "      <th></th>\n",
       "      <th></th>\n",
       "      <th></th>\n",
       "    </tr>\n",
       "  </thead>\n",
       "  <tbody>\n",
       "    <tr>\n",
       "      <th>konesso_df</th>\n",
       "      <td>LaCava Limy Nitro Cold Bru 200ml</td>\n",
       "      <td>7.19</td>\n",
       "      <td>ZESTAW 6x Kawa ziarnista Bazzara DODICIGRANCRU</td>\n",
       "      <td>780.54</td>\n",
       "    </tr>\n",
       "    <tr>\n",
       "      <th>cc_df</th>\n",
       "      <td>Kawa mielona Taka dla Ciebie</td>\n",
       "      <td>22.00</td>\n",
       "      <td>Kawa mielona Etiopia Yirgacheffe</td>\n",
       "      <td>135.00</td>\n",
       "    </tr>\n",
       "    <tr>\n",
       "      <th>pk_df</th>\n",
       "      <td>Kapsułki do ekspresu Tchibo Cafissimo / Caffit...</td>\n",
       "      <td>13.53</td>\n",
       "      <td>Zestaw kawy ziarnistej Single Origin, 3 kg</td>\n",
       "      <td>359.98</td>\n",
       "    </tr>\n",
       "  </tbody>\n",
       "</table>\n",
       "</div>"
      ]
     },
     "execution_count": 119,
     "metadata": {},
     "output_type": "execute_result"
    }
   ],
   "execution_count": 119
  },
  {
   "metadata": {
    "ExecuteTime": {
     "end_time": "2024-11-28T21:52:13.725427Z",
     "start_time": "2024-11-28T21:52:13.711326Z"
    }
   },
   "cell_type": "code",
   "source": [
    "avg_disc_perc_df = calculate_avg_discounts(\n",
    "   {\n",
    "    \"konesso_df\": konesso_df,\n",
    "    \"pk_df\": pk_df\n",
    "})\n",
    "avg_disc_perc_df.head()"
   ],
   "id": "e5bdf4f1d3189462",
   "outputs": [
    {
     "data": {
      "text/plain": [
       "      df_name  avg_discount_percentage\n",
       "0  konesso_df                21.924925\n",
       "1       pk_df                22.347018"
      ],
      "text/html": [
       "<div>\n",
       "<style scoped>\n",
       "    .dataframe tbody tr th:only-of-type {\n",
       "        vertical-align: middle;\n",
       "    }\n",
       "\n",
       "    .dataframe tbody tr th {\n",
       "        vertical-align: top;\n",
       "    }\n",
       "\n",
       "    .dataframe thead th {\n",
       "        text-align: right;\n",
       "    }\n",
       "</style>\n",
       "<table border=\"1\" class=\"dataframe\">\n",
       "  <thead>\n",
       "    <tr style=\"text-align: right;\">\n",
       "      <th></th>\n",
       "      <th>df_name</th>\n",
       "      <th>avg_discount_percentage</th>\n",
       "    </tr>\n",
       "  </thead>\n",
       "  <tbody>\n",
       "    <tr>\n",
       "      <th>0</th>\n",
       "      <td>konesso_df</td>\n",
       "      <td>21.924925</td>\n",
       "    </tr>\n",
       "    <tr>\n",
       "      <th>1</th>\n",
       "      <td>pk_df</td>\n",
       "      <td>22.347018</td>\n",
       "    </tr>\n",
       "  </tbody>\n",
       "</table>\n",
       "</div>"
      ]
     },
     "execution_count": 120,
     "metadata": {},
     "output_type": "execute_result"
    }
   ],
   "execution_count": 120
  },
  {
   "metadata": {
    "ExecuteTime": {
     "end_time": "2024-11-28T21:52:14.021641Z",
     "start_time": "2024-11-28T21:52:13.869513Z"
    }
   },
   "cell_type": "code",
   "source": "plot_bar_chart_for_discounts(avg_disc_perc_df, \"avg_discount_percentage\", \"yellow\")",
   "id": "c52dbfa06f9af90",
   "outputs": [
    {
     "data": {
      "text/plain": [
       "<Figure size 1000x600 with 1 Axes>"
      ],
      "image/png": "[encoded data removed]"
     },
     "metadata": {},
     "output_type": "display_data"
    }
   ],
   "execution_count": 121
  }
 ],
 "metadata": {
  "kernelspec": {
   "display_name": "Python 3",
   "language": "python",
   "name": "python3"
  },
  "language_info": {
   "codemirror_mode": {
    "name": "ipython",
    "version": 2
   },
   "file_extension": ".py",
   "mimetype": "text/x-python",
   "name": "python",
   "nbconvert_exporter": "python",
   "pygments_lexer": "ipython2",
   "version": "2.7.6"
  }
 },
 "nbformat": 4,
 "nbformat_minor": 5
}
