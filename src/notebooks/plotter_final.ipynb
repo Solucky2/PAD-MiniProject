{
 "cells": [
  {
   "cell_type": "code",
   "id": "initial_id",
   "metadata": {
    "collapsed": true,
    "ExecuteTime": {
     "end_time": "2024-11-28T20:54:28.947460Z",
     "start_time": "2024-11-28T20:54:28.916699Z"
    }
   },
   "source": [
    "import pandas as pd\n",
    "from src.helpers import plot_bar_chart_for_discounts, plot_bar_chart_for_price\n",
    "\n",
    "\n",
    "konesso_df = pd.read_csv(r\"cleaned_data/konesso_cleaned.csv\")\n",
    "pk_df = pd.read_csv(r\"cleaned_data/pk_cleaned.csv\")\n",
    "cc_df = pd.read_csv(r\"cleaned_data/coffee_cave_cleaned.csv\")"
   ],
   "outputs": [],
   "execution_count": 69
  },
  {
   "metadata": {
    "ExecuteTime": {
     "end_time": "2024-11-28T20:54:28.978358Z",
     "start_time": "2024-11-28T20:54:28.959135Z"
    }
   },
   "cell_type": "code",
   "source": "pk_df.head()",
   "id": "d69f2800048b674d",
   "outputs": [
    {
     "data": {
      "text/plain": [
       "                                        product_name  price_old [PLN]  \\\n",
       "0                 Zestaw kawy ziarnistej Caprisette,           150.80   \n",
       "1  Zestaw ziaren kawy Caprisette,  w świątecznym ...           160.99   \n",
       "2             Zestaw kaw ziarnistych Caprisette TOP,           145.97   \n",
       "3                   Zestaw kawy mielonej Caprisette,           150.80   \n",
       "4  Zestaw kawy mielonej Caprisette,  w świąteczny...           160.99   \n",
       "\n",
       "   new_price [PLN]  product_quantity  product_weight  \n",
       "0           102.50                 4            0.25  \n",
       "1            80.50                 4            0.25  \n",
       "2            87.58                 3            0.25  \n",
       "3           102.50                 4            0.25  \n",
       "4            80.50                 4            0.25  "
      ],
      "text/html": [
       "<div>\n",
       "<style scoped>\n",
       "    .dataframe tbody tr th:only-of-type {\n",
       "        vertical-align: middle;\n",
       "    }\n",
       "\n",
       "    .dataframe tbody tr th {\n",
       "        vertical-align: top;\n",
       "    }\n",
       "\n",
       "    .dataframe thead th {\n",
       "        text-align: right;\n",
       "    }\n",
       "</style>\n",
       "<table border=\"1\" class=\"dataframe\">\n",
       "  <thead>\n",
       "    <tr style=\"text-align: right;\">\n",
       "      <th></th>\n",
       "      <th>product_name</th>\n",
       "      <th>price_old [PLN]</th>\n",
       "      <th>new_price [PLN]</th>\n",
       "      <th>product_quantity</th>\n",
       "      <th>product_weight</th>\n",
       "    </tr>\n",
       "  </thead>\n",
       "  <tbody>\n",
       "    <tr>\n",
       "      <th>0</th>\n",
       "      <td>Zestaw kawy ziarnistej Caprisette,</td>\n",
       "      <td>150.80</td>\n",
       "      <td>102.50</td>\n",
       "      <td>4</td>\n",
       "      <td>0.25</td>\n",
       "    </tr>\n",
       "    <tr>\n",
       "      <th>1</th>\n",
       "      <td>Zestaw ziaren kawy Caprisette,  w świątecznym ...</td>\n",
       "      <td>160.99</td>\n",
       "      <td>80.50</td>\n",
       "      <td>4</td>\n",
       "      <td>0.25</td>\n",
       "    </tr>\n",
       "    <tr>\n",
       "      <th>2</th>\n",
       "      <td>Zestaw kaw ziarnistych Caprisette TOP,</td>\n",
       "      <td>145.97</td>\n",
       "      <td>87.58</td>\n",
       "      <td>3</td>\n",
       "      <td>0.25</td>\n",
       "    </tr>\n",
       "    <tr>\n",
       "      <th>3</th>\n",
       "      <td>Zestaw kawy mielonej Caprisette,</td>\n",
       "      <td>150.80</td>\n",
       "      <td>102.50</td>\n",
       "      <td>4</td>\n",
       "      <td>0.25</td>\n",
       "    </tr>\n",
       "    <tr>\n",
       "      <th>4</th>\n",
       "      <td>Zestaw kawy mielonej Caprisette,  w świąteczny...</td>\n",
       "      <td>160.99</td>\n",
       "      <td>80.50</td>\n",
       "      <td>4</td>\n",
       "      <td>0.25</td>\n",
       "    </tr>\n",
       "  </tbody>\n",
       "</table>\n",
       "</div>"
      ]
     },
     "execution_count": 70,
     "metadata": {},
     "output_type": "execute_result"
    }
   ],
   "execution_count": 70
  },
  {
   "metadata": {
    "ExecuteTime": {
     "end_time": "2024-11-28T20:54:29.072191Z",
     "start_time": "2024-11-28T20:54:29.058585Z"
    }
   },
   "cell_type": "code",
   "source": "konesso_df.head()",
   "id": "a72d51c4cc04144f",
   "outputs": [
    {
     "data": {
      "text/plain": [
       "                                        product_name  price_old [PLN]  \\\n",
       "0  Kawa ziarnista Cornella Barista PRO Premium Gr...           129.99   \n",
       "1               Kawa ziarnista MRC. Cappuccino Blend           120.00   \n",
       "2                   Kawa ziarnista Bazzara AROMAMORE           132.99   \n",
       "3              Kawa ziarnista Bazzara GRANCAPPUCCINO           129.99   \n",
       "4        Kawa ziarnista LaCava Colombia Jairo Arcila           119.00   \n",
       "\n",
       "   price_netto [PLN]  new_price [PLN]  package_weight [KG]  \n",
       "0            89.8323           110.49                  1.0  \n",
       "1            73.1723            90.00                  1.0  \n",
       "2            89.7423           110.38                  1.0  \n",
       "3            87.7223           107.89                  1.0  \n",
       "4            67.7223            83.30                  0.2  "
      ],
      "text/html": [
       "<div>\n",
       "<style scoped>\n",
       "    .dataframe tbody tr th:only-of-type {\n",
       "        vertical-align: middle;\n",
       "    }\n",
       "\n",
       "    .dataframe tbody tr th {\n",
       "        vertical-align: top;\n",
       "    }\n",
       "\n",
       "    .dataframe thead th {\n",
       "        text-align: right;\n",
       "    }\n",
       "</style>\n",
       "<table border=\"1\" class=\"dataframe\">\n",
       "  <thead>\n",
       "    <tr style=\"text-align: right;\">\n",
       "      <th></th>\n",
       "      <th>product_name</th>\n",
       "      <th>price_old [PLN]</th>\n",
       "      <th>price_netto [PLN]</th>\n",
       "      <th>new_price [PLN]</th>\n",
       "      <th>package_weight [KG]</th>\n",
       "    </tr>\n",
       "  </thead>\n",
       "  <tbody>\n",
       "    <tr>\n",
       "      <th>0</th>\n",
       "      <td>Kawa ziarnista Cornella Barista PRO Premium Gr...</td>\n",
       "      <td>129.99</td>\n",
       "      <td>89.8323</td>\n",
       "      <td>110.49</td>\n",
       "      <td>1.0</td>\n",
       "    </tr>\n",
       "    <tr>\n",
       "      <th>1</th>\n",
       "      <td>Kawa ziarnista MRC. Cappuccino Blend</td>\n",
       "      <td>120.00</td>\n",
       "      <td>73.1723</td>\n",
       "      <td>90.00</td>\n",
       "      <td>1.0</td>\n",
       "    </tr>\n",
       "    <tr>\n",
       "      <th>2</th>\n",
       "      <td>Kawa ziarnista Bazzara AROMAMORE</td>\n",
       "      <td>132.99</td>\n",
       "      <td>89.7423</td>\n",
       "      <td>110.38</td>\n",
       "      <td>1.0</td>\n",
       "    </tr>\n",
       "    <tr>\n",
       "      <th>3</th>\n",
       "      <td>Kawa ziarnista Bazzara GRANCAPPUCCINO</td>\n",
       "      <td>129.99</td>\n",
       "      <td>87.7223</td>\n",
       "      <td>107.89</td>\n",
       "      <td>1.0</td>\n",
       "    </tr>\n",
       "    <tr>\n",
       "      <th>4</th>\n",
       "      <td>Kawa ziarnista LaCava Colombia Jairo Arcila</td>\n",
       "      <td>119.00</td>\n",
       "      <td>67.7223</td>\n",
       "      <td>83.30</td>\n",
       "      <td>0.2</td>\n",
       "    </tr>\n",
       "  </tbody>\n",
       "</table>\n",
       "</div>"
      ]
     },
     "execution_count": 71,
     "metadata": {},
     "output_type": "execute_result"
    }
   ],
   "execution_count": 71
  },
  {
   "metadata": {
    "ExecuteTime": {
     "end_time": "2024-11-28T20:54:29.211854Z",
     "start_time": "2024-11-28T20:54:29.198308Z"
    }
   },
   "cell_type": "code",
   "source": "cc_df.head()",
   "id": "5e918512c58b4c58",
   "outputs": [
    {
     "data": {
      "text/plain": [
       "                     product_name  new_price [PLN]  product_weight\n",
       "0    Kawa mielona Brazylia Santos             83.0            1.00\n",
       "1  Kawa ziarnista Brazylia Santos             83.0            1.00\n",
       "2    Kawa mielona Brazylia Santos             46.0            0.50\n",
       "3  Kawa ziarnista Brazylia Santos             46.0            0.50\n",
       "4    Kawa mielona Brazylia Santos             28.0            0.25"
      ],
      "text/html": [
       "<div>\n",
       "<style scoped>\n",
       "    .dataframe tbody tr th:only-of-type {\n",
       "        vertical-align: middle;\n",
       "    }\n",
       "\n",
       "    .dataframe tbody tr th {\n",
       "        vertical-align: top;\n",
       "    }\n",
       "\n",
       "    .dataframe thead th {\n",
       "        text-align: right;\n",
       "    }\n",
       "</style>\n",
       "<table border=\"1\" class=\"dataframe\">\n",
       "  <thead>\n",
       "    <tr style=\"text-align: right;\">\n",
       "      <th></th>\n",
       "      <th>product_name</th>\n",
       "      <th>new_price [PLN]</th>\n",
       "      <th>product_weight</th>\n",
       "    </tr>\n",
       "  </thead>\n",
       "  <tbody>\n",
       "    <tr>\n",
       "      <th>0</th>\n",
       "      <td>Kawa mielona Brazylia Santos</td>\n",
       "      <td>83.0</td>\n",
       "      <td>1.00</td>\n",
       "    </tr>\n",
       "    <tr>\n",
       "      <th>1</th>\n",
       "      <td>Kawa ziarnista Brazylia Santos</td>\n",
       "      <td>83.0</td>\n",
       "      <td>1.00</td>\n",
       "    </tr>\n",
       "    <tr>\n",
       "      <th>2</th>\n",
       "      <td>Kawa mielona Brazylia Santos</td>\n",
       "      <td>46.0</td>\n",
       "      <td>0.50</td>\n",
       "    </tr>\n",
       "    <tr>\n",
       "      <th>3</th>\n",
       "      <td>Kawa ziarnista Brazylia Santos</td>\n",
       "      <td>46.0</td>\n",
       "      <td>0.50</td>\n",
       "    </tr>\n",
       "    <tr>\n",
       "      <th>4</th>\n",
       "      <td>Kawa mielona Brazylia Santos</td>\n",
       "      <td>28.0</td>\n",
       "      <td>0.25</td>\n",
       "    </tr>\n",
       "  </tbody>\n",
       "</table>\n",
       "</div>"
      ]
     },
     "execution_count": 72,
     "metadata": {},
     "output_type": "execute_result"
    }
   ],
   "execution_count": 72
  },
  {
   "metadata": {
    "ExecuteTime": {
     "end_time": "2024-11-28T20:54:29.691090Z",
     "start_time": "2024-11-28T20:54:29.400267Z"
    }
   },
   "cell_type": "code",
   "source": "plot_bar_chart_for_price(pk_df, \"new_price [PLN]\", \"skyblue\")",
   "id": "dec02812cbd2cf8c",
   "outputs": [
    {
     "data": {
      "text/plain": [
       "<Figure size 1000x600 with 1 Axes>"
      ],
      "image/png": "[encoded data removed]"
     },
     "metadata": {},
     "output_type": "display_data"
    }
   ],
   "execution_count": 73
  },
  {
   "metadata": {
    "ExecuteTime": {
     "end_time": "2024-11-28T20:54:29.988812Z",
     "start_time": "2024-11-28T20:54:29.755495Z"
    }
   },
   "cell_type": "code",
   "source": "plot_bar_chart_for_price(cc_df, \"new_price [PLN]\", \"green\")",
   "id": "4ea6f0fb84e73f1",
   "outputs": [
    {
     "data": {
      "text/plain": [
       "<Figure size 1000x600 with 1 Axes>"
      ],
      "image/png": "[encoded data removed]"
     },
     "metadata": {},
     "output_type": "display_data"
    }
   ],
   "execution_count": 74
  },
  {
   "metadata": {
    "ExecuteTime": {
     "end_time": "2024-11-28T20:54:31.617185Z",
     "start_time": "2024-11-28T20:54:30.003650Z"
    }
   },
   "cell_type": "code",
   "source": "plot_bar_chart_for_price(konesso_df, \"new_price [PLN]\", \"red\")",
   "id": "bee9d95e356ecfac",
   "outputs": [
    {
     "data": {
      "text/plain": [
       "<Figure size 1000x600 with 1 Axes>"
      ],
      "image/png": "[encoded data removed]"
     },
     "metadata": {},
     "output_type": "display_data"
    }
   ],
   "execution_count": 75
  },
  {
   "metadata": {
    "ExecuteTime": {
     "end_time": "2024-11-28T20:54:31.664087Z",
     "start_time": "2024-11-28T20:54:31.652740Z"
    }
   },
   "cell_type": "code",
   "source": [
    "dfs = {\n",
    "    \"konesso_df\": konesso_df,\n",
    "    \"cc_df\": cc_df,\n",
    "    \"pk_df\": pk_df\n",
    "}\n",
    "\n",
    "\n",
    "min_max = []\n",
    "for name, df in dfs.items():\n",
    "        min_row = df.loc[df[\"new_price [PLN]\"].idxmin()]\n",
    "        max_row = df.loc[df[\"new_price [PLN]\"].idxmax()]\n",
    "\n",
    "        min_max.append({\n",
    "            \"df_name\": name,\n",
    "            \"min_product\": min_row[\"product_name\"],\n",
    "            \"min_price [PLN]\": min_row[\"new_price [PLN]\"],\n",
    "            \"max_product\": max_row[\"product_name\"],\n",
    "            \"max_price [PLN]\": max_row[\"new_price [PLN]\"]\n",
    "        })\n",
    "\n",
    "\n",
    "min_max_df = pd.DataFrame(min_max).set_index(\"df_name\")"
   ],
   "id": "3c238a8c38a3422a",
   "outputs": [],
   "execution_count": 76
  },
  {
   "metadata": {
    "ExecuteTime": {
     "end_time": "2024-11-28T20:54:31.710565Z",
     "start_time": "2024-11-28T20:54:31.697840Z"
    }
   },
   "cell_type": "code",
   "source": "min_max_df.head()",
   "id": "d5664cbe28260204",
   "outputs": [
    {
     "data": {
      "text/plain": [
       "                                                  min_product  \\\n",
       "df_name                                                         \n",
       "konesso_df                   LaCava Limy Nitro Cold Bru 200ml   \n",
       "cc_df                            Kawa mielona Taka dla Ciebie   \n",
       "pk_df       Kapsułki do ekspresu Tchibo Cafissimo / Caffit...   \n",
       "\n",
       "            min_price [PLN]                                     max_product  \\\n",
       "df_name                                                                       \n",
       "konesso_df             7.19  ZESTAW 6x Kawa ziarnista Bazzara DODICIGRANCRU   \n",
       "cc_df                 22.00                Kawa mielona Etiopia Yirgacheffe   \n",
       "pk_df                 13.53      Zestaw kawy ziarnistej Single Origin, 3 kg   \n",
       "\n",
       "            max_price [PLN]  \n",
       "df_name                      \n",
       "konesso_df           780.54  \n",
       "cc_df                135.00  \n",
       "pk_df                359.98  "
      ],
      "text/html": [
       "<div>\n",
       "<style scoped>\n",
       "    .dataframe tbody tr th:only-of-type {\n",
       "        vertical-align: middle;\n",
       "    }\n",
       "\n",
       "    .dataframe tbody tr th {\n",
       "        vertical-align: top;\n",
       "    }\n",
       "\n",
       "    .dataframe thead th {\n",
       "        text-align: right;\n",
       "    }\n",
       "</style>\n",
       "<table border=\"1\" class=\"dataframe\">\n",
       "  <thead>\n",
       "    <tr style=\"text-align: right;\">\n",
       "      <th></th>\n",
       "      <th>min_product</th>\n",
       "      <th>min_price [PLN]</th>\n",
       "      <th>max_product</th>\n",
       "      <th>max_price [PLN]</th>\n",
       "    </tr>\n",
       "    <tr>\n",
       "      <th>df_name</th>\n",
       "      <th></th>\n",
       "      <th></th>\n",
       "      <th></th>\n",
       "      <th></th>\n",
       "    </tr>\n",
       "  </thead>\n",
       "  <tbody>\n",
       "    <tr>\n",
       "      <th>konesso_df</th>\n",
       "      <td>LaCava Limy Nitro Cold Bru 200ml</td>\n",
       "      <td>7.19</td>\n",
       "      <td>ZESTAW 6x Kawa ziarnista Bazzara DODICIGRANCRU</td>\n",
       "      <td>780.54</td>\n",
       "    </tr>\n",
       "    <tr>\n",
       "      <th>cc_df</th>\n",
       "      <td>Kawa mielona Taka dla Ciebie</td>\n",
       "      <td>22.00</td>\n",
       "      <td>Kawa mielona Etiopia Yirgacheffe</td>\n",
       "      <td>135.00</td>\n",
       "    </tr>\n",
       "    <tr>\n",
       "      <th>pk_df</th>\n",
       "      <td>Kapsułki do ekspresu Tchibo Cafissimo / Caffit...</td>\n",
       "      <td>13.53</td>\n",
       "      <td>Zestaw kawy ziarnistej Single Origin, 3 kg</td>\n",
       "      <td>359.98</td>\n",
       "    </tr>\n",
       "  </tbody>\n",
       "</table>\n",
       "</div>"
      ]
     },
     "execution_count": 77,
     "metadata": {},
     "output_type": "execute_result"
    }
   ],
   "execution_count": 77
  },
  {
   "metadata": {
    "ExecuteTime": {
     "end_time": "2024-11-28T20:54:39.930251Z",
     "start_time": "2024-11-28T20:54:39.909221Z"
    }
   },
   "cell_type": "code",
   "source": [
    "dfs = {\n",
    "    \"pk_df\": pk_df,\n",
    "    \"konesso_df\": konesso_df\n",
    "}\n",
    "\n",
    "avg_disc_perc = []\n",
    "for name, df in dfs.items():\n",
    "    df[\"discount_percentage\"] = ((df[\"price_old [PLN]\"] - df[\"new_price [PLN]\"]) / df[\"price_old [PLN]\"]) * 100\n",
    "    avg_discount = df[\"discount_percentage\"].mean()\n",
    "    avg_disc_perc.append({\"df_name\": name, \"avg_discount_percentage\": avg_discount})\n",
    "\n",
    "avg_disc_perc_df = pd.DataFrame(avg_disc_perc).set_index(\"df_name\")\n",
    "avg_disc_perc_df.head()"
   ],
   "id": "e5bdf4f1d3189462",
   "outputs": [
    {
     "data": {
      "text/plain": [
       "            avg_discount_percentage\n",
       "df_name                            \n",
       "pk_df                     22.347018\n",
       "konesso_df                21.924925"
      ],
      "text/html": [
       "<div>\n",
       "<style scoped>\n",
       "    .dataframe tbody tr th:only-of-type {\n",
       "        vertical-align: middle;\n",
       "    }\n",
       "\n",
       "    .dataframe tbody tr th {\n",
       "        vertical-align: top;\n",
       "    }\n",
       "\n",
       "    .dataframe thead th {\n",
       "        text-align: right;\n",
       "    }\n",
       "</style>\n",
       "<table border=\"1\" class=\"dataframe\">\n",
       "  <thead>\n",
       "    <tr style=\"text-align: right;\">\n",
       "      <th></th>\n",
       "      <th>avg_discount_percentage</th>\n",
       "    </tr>\n",
       "    <tr>\n",
       "      <th>df_name</th>\n",
       "      <th></th>\n",
       "    </tr>\n",
       "  </thead>\n",
       "  <tbody>\n",
       "    <tr>\n",
       "      <th>pk_df</th>\n",
       "      <td>22.347018</td>\n",
       "    </tr>\n",
       "    <tr>\n",
       "      <th>konesso_df</th>\n",
       "      <td>21.924925</td>\n",
       "    </tr>\n",
       "  </tbody>\n",
       "</table>\n",
       "</div>"
      ]
     },
     "execution_count": 80,
     "metadata": {},
     "output_type": "execute_result"
    }
   ],
   "execution_count": 80
  },
  {
   "metadata": {
    "ExecuteTime": {
     "end_time": "2024-11-28T20:54:32.004614Z",
     "start_time": "2024-11-28T20:54:31.884977Z"
    }
   },
   "cell_type": "code",
   "source": "plot_bar_chart_for_discounts(avg_disc_perc_df, \"avg_discount_percentage\", \"yellow\")",
   "id": "c52dbfa06f9af90",
   "outputs": [
    {
     "data": {
      "text/plain": [
       "<Figure size 1000x600 with 1 Axes>"
      ],
      "image/png": "[encoded data removed]"
     },
     "metadata": {},
     "output_type": "display_data"
    }
   ],
   "execution_count": 79
  }
 ],
 "metadata": {
  "kernelspec": {
   "display_name": "Python 3",
   "language": "python",
   "name": "python3"
  },
  "language_info": {
   "codemirror_mode": {
    "name": "ipython",
    "version": 2
   },
   "file_extension": ".py",
   "mimetype": "text/x-python",
   "name": "python",
   "nbconvert_exporter": "python",
   "pygments_lexer": "ipython2",
   "version": "2.7.6"
  }
 },
 "nbformat": 4,
 "nbformat_minor": 5
}
