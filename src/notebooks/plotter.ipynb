{
 "cells": [
  {
   "cell_type": "code",
   "id": "initial_id",
   "metadata": {
    "collapsed": true,
    "ExecuteTime": {
     "end_time": "2024-11-25T18:45:18.156150Z",
     "start_time": "2024-11-25T18:45:18.110874Z"
    }
   },
   "source": [
    "import pandas as pd\n",
    "import numpy as np\n",
    "import matplotlib.pyplot as plt\n",
    "\n",
    "\n",
    "konesso_df = pd.read_csv(r\"cleaned_data/konesso_cleaned.csv\")\n",
    "pk_df = pd.read_csv(r\"cleaned_data/pk_cleaned.csv\")\n",
    "cc_df = pd.read_csv(r\"cleaned_data/coffee_cave_cleaned.csv\")"
   ],
   "outputs": [],
   "execution_count": 63
  },
  {
   "metadata": {
    "ExecuteTime": {
     "end_time": "2024-11-25T18:31:18.016029Z",
     "start_time": "2024-11-25T18:31:18.000340Z"
    }
   },
   "cell_type": "code",
   "source": "pk_df.head()",
   "id": "d69f2800048b674d",
   "outputs": [
    {
     "data": {
      "text/plain": [
       "                                                name  previous_price [PLN]  \\\n",
       "0                 Zestaw kawy ziarnistej Caprisette,                150.80   \n",
       "1  Zestaw ziaren kawy Caprisette,  w świątecznym ...                160.99   \n",
       "2             Zestaw kaw ziarnistych Caprisette TOP,                145.97   \n",
       "3                   Zestaw kawy mielonej Caprisette,                150.80   \n",
       "4  Zestaw kawy mielonej Caprisette,  w świąteczny...                160.99   \n",
       "\n",
       "   new_price [PLN]  product_quantity  product_weight  \n",
       "0           102.50                 4            0.25  \n",
       "1            80.50                 4            0.25  \n",
       "2            87.58                 3            0.25  \n",
       "3           102.50                 4            0.25  \n",
       "4            80.50                 4            0.25  "
      ],
      "text/html": [
       "<div>\n",
       "<style scoped>\n",
       "    .dataframe tbody tr th:only-of-type {\n",
       "        vertical-align: middle;\n",
       "    }\n",
       "\n",
       "    .dataframe tbody tr th {\n",
       "        vertical-align: top;\n",
       "    }\n",
       "\n",
       "    .dataframe thead th {\n",
       "        text-align: right;\n",
       "    }\n",
       "</style>\n",
       "<table border=\"1\" class=\"dataframe\">\n",
       "  <thead>\n",
       "    <tr style=\"text-align: right;\">\n",
       "      <th></th>\n",
       "      <th>name</th>\n",
       "      <th>previous_price [PLN]</th>\n",
       "      <th>new_price [PLN]</th>\n",
       "      <th>product_quantity</th>\n",
       "      <th>product_weight</th>\n",
       "    </tr>\n",
       "  </thead>\n",
       "  <tbody>\n",
       "    <tr>\n",
       "      <th>0</th>\n",
       "      <td>Zestaw kawy ziarnistej Caprisette,</td>\n",
       "      <td>150.80</td>\n",
       "      <td>102.50</td>\n",
       "      <td>4</td>\n",
       "      <td>0.25</td>\n",
       "    </tr>\n",
       "    <tr>\n",
       "      <th>1</th>\n",
       "      <td>Zestaw ziaren kawy Caprisette,  w świątecznym ...</td>\n",
       "      <td>160.99</td>\n",
       "      <td>80.50</td>\n",
       "      <td>4</td>\n",
       "      <td>0.25</td>\n",
       "    </tr>\n",
       "    <tr>\n",
       "      <th>2</th>\n",
       "      <td>Zestaw kaw ziarnistych Caprisette TOP,</td>\n",
       "      <td>145.97</td>\n",
       "      <td>87.58</td>\n",
       "      <td>3</td>\n",
       "      <td>0.25</td>\n",
       "    </tr>\n",
       "    <tr>\n",
       "      <th>3</th>\n",
       "      <td>Zestaw kawy mielonej Caprisette,</td>\n",
       "      <td>150.80</td>\n",
       "      <td>102.50</td>\n",
       "      <td>4</td>\n",
       "      <td>0.25</td>\n",
       "    </tr>\n",
       "    <tr>\n",
       "      <th>4</th>\n",
       "      <td>Zestaw kawy mielonej Caprisette,  w świąteczny...</td>\n",
       "      <td>160.99</td>\n",
       "      <td>80.50</td>\n",
       "      <td>4</td>\n",
       "      <td>0.25</td>\n",
       "    </tr>\n",
       "  </tbody>\n",
       "</table>\n",
       "</div>"
      ]
     },
     "execution_count": 41,
     "metadata": {},
     "output_type": "execute_result"
    }
   ],
   "execution_count": 41
  },
  {
   "metadata": {
    "ExecuteTime": {
     "end_time": "2024-11-25T18:43:39.501468Z",
     "start_time": "2024-11-25T18:43:39.483447Z"
    }
   },
   "cell_type": "code",
   "source": "konesso_df.head()",
   "id": "a72d51c4cc04144f",
   "outputs": [
    {
     "data": {
      "text/plain": [
       "                                        product_name  price_old [PLN]  \\\n",
       "0  Kawa ziarnista Cornella Barista PRO Premium Gr...           129.99   \n",
       "1               Kawa ziarnista MRC. Cappuccino Blend           120.00   \n",
       "2                   Kawa ziarnista Bazzara AROMAMORE           132.99   \n",
       "3              Kawa ziarnista Bazzara GRANCAPPUCCINO           129.99   \n",
       "4        Kawa ziarnista LaCava Colombia Jairo Arcila           119.00   \n",
       "\n",
       "   price_netto [PLN]  new_price [PLN]  package_weight [KG]  \n",
       "0            89.8323           110.49                  1.0  \n",
       "1            73.1723            90.00                  1.0  \n",
       "2            89.7423           110.38                  1.0  \n",
       "3            87.7223           107.89                  1.0  \n",
       "4            67.7223            83.30                  0.2  "
      ],
      "text/html": [
       "<div>\n",
       "<style scoped>\n",
       "    .dataframe tbody tr th:only-of-type {\n",
       "        vertical-align: middle;\n",
       "    }\n",
       "\n",
       "    .dataframe tbody tr th {\n",
       "        vertical-align: top;\n",
       "    }\n",
       "\n",
       "    .dataframe thead th {\n",
       "        text-align: right;\n",
       "    }\n",
       "</style>\n",
       "<table border=\"1\" class=\"dataframe\">\n",
       "  <thead>\n",
       "    <tr style=\"text-align: right;\">\n",
       "      <th></th>\n",
       "      <th>product_name</th>\n",
       "      <th>price_old [PLN]</th>\n",
       "      <th>price_netto [PLN]</th>\n",
       "      <th>new_price [PLN]</th>\n",
       "      <th>package_weight [KG]</th>\n",
       "    </tr>\n",
       "  </thead>\n",
       "  <tbody>\n",
       "    <tr>\n",
       "      <th>0</th>\n",
       "      <td>Kawa ziarnista Cornella Barista PRO Premium Gr...</td>\n",
       "      <td>129.99</td>\n",
       "      <td>89.8323</td>\n",
       "      <td>110.49</td>\n",
       "      <td>1.0</td>\n",
       "    </tr>\n",
       "    <tr>\n",
       "      <th>1</th>\n",
       "      <td>Kawa ziarnista MRC. Cappuccino Blend</td>\n",
       "      <td>120.00</td>\n",
       "      <td>73.1723</td>\n",
       "      <td>90.00</td>\n",
       "      <td>1.0</td>\n",
       "    </tr>\n",
       "    <tr>\n",
       "      <th>2</th>\n",
       "      <td>Kawa ziarnista Bazzara AROMAMORE</td>\n",
       "      <td>132.99</td>\n",
       "      <td>89.7423</td>\n",
       "      <td>110.38</td>\n",
       "      <td>1.0</td>\n",
       "    </tr>\n",
       "    <tr>\n",
       "      <th>3</th>\n",
       "      <td>Kawa ziarnista Bazzara GRANCAPPUCCINO</td>\n",
       "      <td>129.99</td>\n",
       "      <td>87.7223</td>\n",
       "      <td>107.89</td>\n",
       "      <td>1.0</td>\n",
       "    </tr>\n",
       "    <tr>\n",
       "      <th>4</th>\n",
       "      <td>Kawa ziarnista LaCava Colombia Jairo Arcila</td>\n",
       "      <td>119.00</td>\n",
       "      <td>67.7223</td>\n",
       "      <td>83.30</td>\n",
       "      <td>0.2</td>\n",
       "    </tr>\n",
       "  </tbody>\n",
       "</table>\n",
       "</div>"
      ]
     },
     "execution_count": 60,
     "metadata": {},
     "output_type": "execute_result"
    }
   ],
   "execution_count": 60
  },
  {
   "metadata": {
    "ExecuteTime": {
     "end_time": "2024-11-25T18:45:20.759019Z",
     "start_time": "2024-11-25T18:45:20.743393Z"
    }
   },
   "cell_type": "code",
   "source": "cc_df.head()",
   "id": "5e918512c58b4c58",
   "outputs": [
    {
     "data": {
      "text/plain": [
       "                     product_name  new_price [PLN]  product_weight\n",
       "0    Kawa mielona Brazylia Santos             83.0            1.00\n",
       "1  Kawa ziarnista Brazylia Santos             83.0            1.00\n",
       "2    Kawa mielona Brazylia Santos             46.0            0.50\n",
       "3  Kawa ziarnista Brazylia Santos             46.0            0.50\n",
       "4    Kawa mielona Brazylia Santos             28.0            0.25"
      ],
      "text/html": [
       "<div>\n",
       "<style scoped>\n",
       "    .dataframe tbody tr th:only-of-type {\n",
       "        vertical-align: middle;\n",
       "    }\n",
       "\n",
       "    .dataframe tbody tr th {\n",
       "        vertical-align: top;\n",
       "    }\n",
       "\n",
       "    .dataframe thead th {\n",
       "        text-align: right;\n",
       "    }\n",
       "</style>\n",
       "<table border=\"1\" class=\"dataframe\">\n",
       "  <thead>\n",
       "    <tr style=\"text-align: right;\">\n",
       "      <th></th>\n",
       "      <th>product_name</th>\n",
       "      <th>new_price [PLN]</th>\n",
       "      <th>product_weight</th>\n",
       "    </tr>\n",
       "  </thead>\n",
       "  <tbody>\n",
       "    <tr>\n",
       "      <th>0</th>\n",
       "      <td>Kawa mielona Brazylia Santos</td>\n",
       "      <td>83.0</td>\n",
       "      <td>1.00</td>\n",
       "    </tr>\n",
       "    <tr>\n",
       "      <th>1</th>\n",
       "      <td>Kawa ziarnista Brazylia Santos</td>\n",
       "      <td>83.0</td>\n",
       "      <td>1.00</td>\n",
       "    </tr>\n",
       "    <tr>\n",
       "      <th>2</th>\n",
       "      <td>Kawa mielona Brazylia Santos</td>\n",
       "      <td>46.0</td>\n",
       "      <td>0.50</td>\n",
       "    </tr>\n",
       "    <tr>\n",
       "      <th>3</th>\n",
       "      <td>Kawa ziarnista Brazylia Santos</td>\n",
       "      <td>46.0</td>\n",
       "      <td>0.50</td>\n",
       "    </tr>\n",
       "    <tr>\n",
       "      <th>4</th>\n",
       "      <td>Kawa mielona Brazylia Santos</td>\n",
       "      <td>28.0</td>\n",
       "      <td>0.25</td>\n",
       "    </tr>\n",
       "  </tbody>\n",
       "</table>\n",
       "</div>"
      ]
     },
     "execution_count": 64,
     "metadata": {},
     "output_type": "execute_result"
    }
   ],
   "execution_count": 64
  },
  {
   "metadata": {},
   "cell_type": "code",
   "outputs": [],
   "execution_count": null,
   "source": "",
   "id": "a95b21218a95d74d"
  },
  {
   "metadata": {
    "ExecuteTime": {
     "end_time": "2024-11-25T18:40:47.210014Z",
     "start_time": "2024-11-25T18:40:47.194375Z"
    }
   },
   "cell_type": "code",
   "source": [
    "def plot_bar_chart_for_price(df, column_name, color):\n",
    "    plt.figure(figsize=(10, 6))\n",
    "    plt.bar(range(len(df)), df[column_name], color=color)\n",
    "    plt.xticks([])\n",
    "    plt.title(\"Ceny produktów\", fontsize=16)\n",
    "    plt.xlabel(\"Produkty\", fontsize=12)\n",
    "    plt.ylabel(\"Cena [PLN]\", fontsize=12)\n",
    "    plt.show()\n"
   ],
   "id": "71a70a6bc2fe729e",
   "outputs": [],
   "execution_count": 55
  },
  {
   "metadata": {
    "ExecuteTime": {
     "end_time": "2024-11-25T18:41:22.104745Z",
     "start_time": "2024-11-25T18:41:21.872325Z"
    }
   },
   "cell_type": "code",
   "source": "plot_bar_chart_for_price(pk_df, \"new_price [PLN]\", \"skyblue\")",
   "id": "dec02812cbd2cf8c",
   "outputs": [
    {
     "data": {
      "text/plain": [
       "<Figure size 1000x600 with 1 Axes>"
      ],
      "image/png": "[encoded data removed]"
     },
     "metadata": {},
     "output_type": "display_data"
    }
   ],
   "execution_count": 56
  },
  {
   "metadata": {
    "ExecuteTime": {
     "end_time": "2024-11-25T18:45:56.535343Z",
     "start_time": "2024-11-25T18:45:56.352366Z"
    }
   },
   "cell_type": "code",
   "source": "plot_bar_chart_for_price(cc_df, \"new_price [PLN]\", \"green\")",
   "id": "4ea6f0fb84e73f1",
   "outputs": [
    {
     "data": {
      "text/plain": [
       "<Figure size 1000x600 with 1 Axes>"
      ],
      "image/png": "[encoded data removed]"
     },
     "metadata": {},
     "output_type": "display_data"
    }
   ],
   "execution_count": 65
  },
  {
   "metadata": {
    "ExecuteTime": {
     "end_time": "2024-11-25T18:44:05.248708Z",
     "start_time": "2024-11-25T18:44:03.751873Z"
    }
   },
   "cell_type": "code",
   "source": "plot_bar_chart_for_price(konesso_df, \"new_price [PLN]\", \"red\")",
   "id": "bee9d95e356ecfac",
   "outputs": [
    {
     "data": {
      "text/plain": [
       "<Figure size 1000x600 with 1 Axes>"
      ],
      "image/png": "[encoded data removed]"
     },
     "metadata": {},
     "output_type": "display_data"
    }
   ],
   "execution_count": 62
  },
  {
   "metadata": {},
   "cell_type": "code",
   "outputs": [],
   "execution_count": null,
   "source": "",
   "id": "3c238a8c38a3422a"
  }
 ],
 "metadata": {
  "kernelspec": {
   "display_name": "Python 3",
   "language": "python",
   "name": "python3"
  },
  "language_info": {
   "codemirror_mode": {
    "name": "ipython",
    "version": 2
   },
   "file_extension": ".py",
   "mimetype": "text/x-python",
   "name": "python",
   "nbconvert_exporter": "python",
   "pygments_lexer": "ipython2",
   "version": "2.7.6"
  }
 },
 "nbformat": 4,
 "nbformat_minor": 5
}
